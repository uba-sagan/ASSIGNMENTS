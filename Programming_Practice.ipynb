{
  "nbformat": 4,
  "nbformat_minor": 0,
  "metadata": {
    "colab": {
      "name": "Programming_Practice.ipynb",
      "provenance": [],
      "collapsed_sections": []
    },
    "kernelspec": {
      "name": "python3",
      "display_name": "Python 3"
    },
    "language_info": {
      "name": "python"
    },
    "accelerator": "TPU"
  },
  "cells": [
    {
      "cell_type": "code",
      "metadata": {
        "colab": {
          "base_uri": "https://localhost:8080/"
        },
        "id": "iKLEye27ZvZ4",
        "outputId": "9cef8d86-c698-4fa4-c2c9-5a0b8ed59e38"
      },
      "source": [
        "# TO GET N(NON-NEGATIVE INTEGER COPIES OF THE FIRST 2 CHARACCTERS OF A GIVEN STRING . RETURN THE N COPIES OF THE WHOLE STRING IF THE LENGTH IS LESS THAN 2)\n",
        "def substring_copy(str,n):\n",
        "  fig = 2\n",
        "  if fig > len(str):\n",
        "    fig = len(str)\n",
        "  substr = str[:fig]\n",
        "\n",
        "  result = \" \"\n",
        "  for i in range(n):\n",
        "    result = result + substr\n",
        "  return result\n",
        "print(substring_copy('UKG',5))\n",
        "print(substring_copy('U',5))\n",
        "    "
      ],
      "execution_count": null,
      "outputs": [
        {
          "output_type": "stream",
          "text": [
            " UKUKUKUKUK\n",
            " UUUUU\n"
          ],
          "name": "stdout"
        }
      ]
    },
    {
      "cell_type": "code",
      "metadata": {
        "colab": {
          "base_uri": "https://localhost:8080/"
        },
        "id": "uj5y8Bbrd-Ze",
        "outputId": "4cf3f3b7-72a4-4194-ce50-e9bfd7c445ab"
      },
      "source": [
        "def substring(str,n):\n",
        "  vic = 2\n",
        "  if len(str)<=vic :\n",
        "    substr = len(str)\n",
        "  substr = str[: vic]\n",
        "\n",
        "  result = \" \"\n",
        "  for i in range(n):\n",
        "    result = result + substr\n",
        "  return result\n",
        "\n",
        "print(substring('KNVK',5))\n",
        "print(substring('VK',5))\n"
      ],
      "execution_count": null,
      "outputs": [
        {
          "output_type": "stream",
          "text": [
            " KNKNKNKNKN\n",
            " VKVKVKVKVK\n"
          ],
          "name": "stdout"
        }
      ]
    },
    {
      "cell_type": "code",
      "metadata": {
        "id": "8P0VE6NxjIWo",
        "colab": {
          "base_uri": "https://localhost:8080/"
        },
        "outputId": "0d2cb352-7732-4451-d04d-4e8da102ce53"
      },
      "source": [
        "  color_list_1 = set([\"green\",\"red\",\"blue\",\"white\"])\n",
        "  color_list_2 = set([\"black\",\"red\",\"yellow\",\"white\"])\n",
        "  result = color_list_1.difference(color_list_2) \n",
        "  print(result)"
      ],
      "execution_count": null,
      "outputs": [
        {
          "output_type": "stream",
          "name": "stdout",
          "text": [
            "{'green', 'blue'}\n"
          ]
        }
      ]
    },
    {
      "cell_type": "code",
      "metadata": {
        "colab": {
          "base_uri": "https://localhost:8080/"
        },
        "id": "7aeRK1iN4-HD",
        "outputId": "85308738-d239-4247-efd2-44548907ba2c"
      },
      "source": [
        "def sum(x,y):\n",
        "  sum = x+y\n",
        "  if sum in range(15,21):\n",
        "    return 20\n",
        "  else:\n",
        "    return sum\n",
        "\n",
        "print(sum(10,6))\n",
        "print(sum(10,9))\n",
        "print(sum(10,16))"
      ],
      "execution_count": null,
      "outputs": [
        {
          "output_type": "stream",
          "name": "stdout",
          "text": [
            "20\n",
            "20\n",
            "26\n"
          ]
        }
      ]
    },
    {
      "cell_type": "code",
      "metadata": {
        "colab": {
          "base_uri": "https://localhost:8080/"
        },
        "id": "dNYvu_8e8YVo",
        "outputId": "30c45ade-2dc2-4ad1-875c-71b29c7466be"
      },
      "source": [
        "# PRINT PERSONAL DETAILS\n",
        "def personal_details():\n",
        "  name,age =\"ubasagan k \", 23\n",
        "  Address =\"Pune,Maharashtra,India\"\n",
        "  print(\"Name: {}\\nAge: {}\\nAddress: {}\".format(name,age,Address))\n",
        "personal_details()"
      ],
      "execution_count": null,
      "outputs": [
        {
          "output_type": "stream",
          "name": "stdout",
          "text": [
            "Name: ubasagan k \n",
            "Age: 23\n",
            "Address: Pune,Maharashtra,India\n"
          ]
        }
      ]
    },
    {
      "cell_type": "code",
      "metadata": {
        "colab": {
          "base_uri": "https://localhost:8080/"
        },
        "id": "s0rleUxUR7vc",
        "outputId": "ec3571da-5248-4ed9-e843-606a4f6c9ac4"
      },
      "source": [
        "#calculation of Future Value\n",
        "\n",
        "amt = 400000\n",
        "int = 9\n",
        "years = 5\n",
        "Future_value = amt*(1+(0.01*int)) ** years\n",
        "print(round(Future_value,3))\n"
      ],
      "execution_count": null,
      "outputs": [
        {
          "output_type": "stream",
          "name": "stdout",
          "text": [
            "615449.582\n"
          ]
        }
      ]
    },
    {
      "cell_type": "code",
      "metadata": {
        "colab": {
          "base_uri": "https://localhost:8080/"
        },
        "id": "F2kXFX1RUYss",
        "outputId": "996dc136-0411-4d45-91ed-f30a9b470f8c"
      },
      "source": [
        "# compute the distance bwt two points \n",
        "import math\n",
        "p1 = [4,3]\n",
        "p2 = [5,2]\n",
        "distance = math.sqrt(((p2[0]-p1[0])**2)+((p2[1]-p1[1])**2))\n",
        "print(distance)"
      ],
      "execution_count": null,
      "outputs": [
        {
          "output_type": "stream",
          "name": "stdout",
          "text": [
            "1.4142135623730951\n"
          ]
        }
      ]
    },
    {
      "cell_type": "code",
      "metadata": {
        "colab": {
          "base_uri": "https://localhost:8080/"
        },
        "id": "_wMjfvw_vljm",
        "outputId": "0b1cd03e-7729-43b5-bf14-0c90f4efb71f"
      },
      "source": [
        "#Print without line or space \n",
        "for i in range(0,101):\n",
        "  print('$',end=\"\")\n",
        "print(\"\\n\")"
      ],
      "execution_count": null,
      "outputs": [
        {
          "output_type": "stream",
          "name": "stdout",
          "text": [
            "$$$$$$$$$$$$$$$$$$$$$$$$$$$$$$$$$$$$$$$$$$$$$$$$$$$$$$$$$$$$$$$$$$$$$$$$$$$$$$$$$$$$$$$$$$$$$$$$$$$$$\n",
            "\n"
          ]
        }
      ]
    },
    {
      "cell_type": "code",
      "metadata": {
        "id": "J_ZO0J-tvmlM",
        "colab": {
          "base_uri": "https://localhost:8080/"
        },
        "outputId": "41467fc5-3206-4b31-da35-70abc658cf5e"
      },
      "source": [
        "#Profiling of Python program\n",
        "import cProfile\n",
        "def sum():\n",
        "  print(1+5)\n",
        "cProfile.run('sum()') "
      ],
      "execution_count": null,
      "outputs": [
        {
          "output_type": "stream",
          "name": "stdout",
          "text": [
            "6\n",
            "         39 function calls in 0.002 seconds\n",
            "\n",
            "   Ordered by: standard name\n",
            "\n",
            "   ncalls  tottime  percall  cumtime  percall filename:lineno(function)\n",
            "        1    0.000    0.000    0.002    0.002 <ipython-input-1-7eb87c7ada6e>:3(sum)\n",
            "        1    0.000    0.000    0.002    0.002 <string>:1(<module>)\n",
            "        3    0.000    0.000    0.002    0.001 iostream.py:195(schedule)\n",
            "        2    0.000    0.000    0.000    0.000 iostream.py:307(_is_master_process)\n",
            "        2    0.000    0.000    0.000    0.000 iostream.py:320(_schedule_flush)\n",
            "        2    0.000    0.000    0.002    0.001 iostream.py:382(write)\n",
            "        3    0.000    0.000    0.000    0.000 iostream.py:93(_event_pipe)\n",
            "        3    0.002    0.001    0.002    0.001 socket.py:474(send)\n",
            "        3    0.000    0.000    0.000    0.000 threading.py:1050(_wait_for_tstate_lock)\n",
            "        3    0.000    0.000    0.000    0.000 threading.py:1092(is_alive)\n",
            "        3    0.000    0.000    0.000    0.000 threading.py:507(is_set)\n",
            "        1    0.000    0.000    0.002    0.002 {built-in method builtins.exec}\n",
            "        2    0.000    0.000    0.000    0.000 {built-in method builtins.isinstance}\n",
            "        1    0.000    0.000    0.002    0.002 {built-in method builtins.print}\n",
            "        2    0.000    0.000    0.000    0.000 {built-in method posix.getpid}\n",
            "        3    0.000    0.000    0.000    0.000 {method 'acquire' of '_thread.lock' objects}\n",
            "        3    0.000    0.000    0.000    0.000 {method 'append' of 'collections.deque' objects}\n",
            "        1    0.000    0.000    0.000    0.000 {method 'disable' of '_lsprof.Profiler' objects}\n",
            "\n",
            "\n"
          ]
        }
      ]
    },
    {
      "cell_type": "code",
      "metadata": {
        "id": "CPSq7RmEy3Q_",
        "colab": {
          "base_uri": "https://localhost:8080/"
        },
        "outputId": "b59c1611-faba-40c1-dcf0-88e4c87cb5fc"
      },
      "source": [
        "#TO GET CURRENT USERNAME\n",
        "import getpass\n",
        "print(getpass.getuser())"
      ],
      "execution_count": null,
      "outputs": [
        {
          "output_type": "stream",
          "name": "stdout",
          "text": [
            "root\n"
          ]
        }
      ]
    },
    {
      "cell_type": "code",
      "metadata": {
        "id": "Bi1Zo6G8VYsk",
        "colab": {
          "base_uri": "https://localhost:8080/",
          "height": 326
        },
        "outputId": "1bf644c9-df07-4494-a4cc-a455891f469a"
      },
      "source": [
        "# TO GET HEIGHT & WIDTH OF CONSOLE WINDOW\n",
        "def Terminal_size():\n",
        "  import fcntl, termios , struct\n",
        "  th, tw , hp, wp = struct.unpack('HHHH' ,fcntl.ioctl(0, termios.TIOCGWINSZ, struct.pack('HHHH',0,0,0,0)))\n",
        "  return tw, th\n",
        "\n",
        "print('Number of columns and Rows: ' , Terminal_size())"
      ],
      "execution_count": null,
      "outputs": [
        {
          "output_type": "error",
          "ename": "OSError",
          "evalue": "ignored",
          "traceback": [
            "\u001b[0;31m---------------------------------------------------------------------------\u001b[0m",
            "\u001b[0;31mOSError\u001b[0m                                   Traceback (most recent call last)",
            "\u001b[0;32m<ipython-input-4-0ab4cc879f15>\u001b[0m in \u001b[0;36m<module>\u001b[0;34m()\u001b[0m\n\u001b[1;32m      5\u001b[0m   \u001b[0;32mreturn\u001b[0m \u001b[0mtw\u001b[0m\u001b[0;34m,\u001b[0m \u001b[0mth\u001b[0m\u001b[0;34m\u001b[0m\u001b[0;34m\u001b[0m\u001b[0m\n\u001b[1;32m      6\u001b[0m \u001b[0;34m\u001b[0m\u001b[0m\n\u001b[0;32m----> 7\u001b[0;31m \u001b[0mprint\u001b[0m\u001b[0;34m(\u001b[0m\u001b[0;34m'Number of columns and Rows: '\u001b[0m \u001b[0;34m,\u001b[0m \u001b[0mTerminal_size\u001b[0m\u001b[0;34m(\u001b[0m\u001b[0;34m)\u001b[0m\u001b[0;34m)\u001b[0m\u001b[0;34m\u001b[0m\u001b[0;34m\u001b[0m\u001b[0m\n\u001b[0m",
            "\u001b[0;32m<ipython-input-4-0ab4cc879f15>\u001b[0m in \u001b[0;36mTerminal_size\u001b[0;34m()\u001b[0m\n\u001b[1;32m      2\u001b[0m \u001b[0;32mdef\u001b[0m \u001b[0mTerminal_size\u001b[0m\u001b[0;34m(\u001b[0m\u001b[0;34m)\u001b[0m\u001b[0;34m:\u001b[0m\u001b[0;34m\u001b[0m\u001b[0;34m\u001b[0m\u001b[0m\n\u001b[1;32m      3\u001b[0m   \u001b[0;32mimport\u001b[0m \u001b[0mfcntl\u001b[0m\u001b[0;34m,\u001b[0m \u001b[0mtermios\u001b[0m \u001b[0;34m,\u001b[0m \u001b[0mstruct\u001b[0m\u001b[0;34m\u001b[0m\u001b[0;34m\u001b[0m\u001b[0m\n\u001b[0;32m----> 4\u001b[0;31m   \u001b[0mth\u001b[0m\u001b[0;34m,\u001b[0m \u001b[0mtw\u001b[0m \u001b[0;34m,\u001b[0m \u001b[0mhp\u001b[0m\u001b[0;34m,\u001b[0m \u001b[0mwp\u001b[0m \u001b[0;34m=\u001b[0m \u001b[0mstruct\u001b[0m\u001b[0;34m.\u001b[0m\u001b[0munpack\u001b[0m\u001b[0;34m(\u001b[0m\u001b[0;34m'HHHH'\u001b[0m \u001b[0;34m,\u001b[0m\u001b[0mfcntl\u001b[0m\u001b[0;34m.\u001b[0m\u001b[0mioctl\u001b[0m\u001b[0;34m(\u001b[0m\u001b[0;36m0\u001b[0m\u001b[0;34m,\u001b[0m \u001b[0mtermios\u001b[0m\u001b[0;34m.\u001b[0m\u001b[0mTIOCGWINSZ\u001b[0m\u001b[0;34m,\u001b[0m \u001b[0mstruct\u001b[0m\u001b[0;34m.\u001b[0m\u001b[0mpack\u001b[0m\u001b[0;34m(\u001b[0m\u001b[0;34m'HHHH'\u001b[0m\u001b[0;34m,\u001b[0m\u001b[0;36m0\u001b[0m\u001b[0;34m,\u001b[0m\u001b[0;36m0\u001b[0m\u001b[0;34m,\u001b[0m\u001b[0;36m0\u001b[0m\u001b[0;34m,\u001b[0m\u001b[0;36m0\u001b[0m\u001b[0;34m)\u001b[0m\u001b[0;34m)\u001b[0m\u001b[0;34m)\u001b[0m\u001b[0;34m\u001b[0m\u001b[0;34m\u001b[0m\u001b[0m\n\u001b[0m\u001b[1;32m      5\u001b[0m   \u001b[0;32mreturn\u001b[0m \u001b[0mtw\u001b[0m\u001b[0;34m,\u001b[0m \u001b[0mth\u001b[0m\u001b[0;34m\u001b[0m\u001b[0;34m\u001b[0m\u001b[0m\n\u001b[1;32m      6\u001b[0m \u001b[0;34m\u001b[0m\u001b[0m\n",
            "\u001b[0;31mOSError\u001b[0m: [Errno 25] Inappropriate ioctl for device"
          ]
        }
      ]
    },
    {
      "cell_type": "code",
      "metadata": {
        "colab": {
          "base_uri": "https://localhost:8080/"
        },
        "id": "DSk5B392a0tE",
        "outputId": "1a05c571-ec53-4ccb-ef05-548a7ffb2825"
      },
      "source": [
        "# WRITE A PYTHON PROGRAM TO GET EXECUTION TIME (IN SECONDS) FOR A PYTHON METHOD \n",
        "import time\n",
        "def sum_of_n_numbers(n):\n",
        "    start_time = time.time()\n",
        "    s = 0\n",
        "    for i in range(1,n+1):\n",
        "        s = s + i\n",
        "    end_time = time.time()\n",
        "    return s,end_time-start_time\n",
        "\n",
        "n = 10\n",
        "print(\"\\nTime to sum of 1 to \",n,\" and required time to calculate is :\",sum_of_n_numbers(n))"
      ],
      "execution_count": null,
      "outputs": [
        {
          "output_type": "stream",
          "name": "stdout",
          "text": [
            "\n",
            "Time to sum of 1 to  10  and required time to calculate is : (55, 2.6226043701171875e-06)\n"
          ]
        }
      ]
    },
    {
      "cell_type": "code",
      "metadata": {
        "id": "tx8hfBFOqgf3",
        "colab": {
          "base_uri": "https://localhost:8080/"
        },
        "outputId": "5a486c54-4296-42ec-96ea-ab34ba00f663"
      },
      "source": [
        "# TO GET ABSLOUTE FILE PATH\n",
        "def absolute_file_path(path_fname):\n",
        "  import os\n",
        "  return os.path.abspath('path_fname')\n",
        "print(\"Absloute file path: %s\" ,absolute_file_path(\"Abstract_122162007.pdf\"))\n"
      ],
      "execution_count": null,
      "outputs": [
        {
          "output_type": "stream",
          "name": "stdout",
          "text": [
            "Absloute file path: %s /content/path_fname\n"
          ]
        }
      ]
    },
    {
      "cell_type": "code",
      "metadata": {
        "id": "t85Uzs1dFTVq",
        "colab": {
          "base_uri": "https://localhost:8080/",
          "height": 343
        },
        "outputId": "94348bb0-f46f-439a-eda9-648ba75d02f8"
      },
      "source": [
        "# TO GET FILE CREATION & MODIFICATION DATE/TIME\n",
        "import os.path,time\n",
        "print(\"Last modified : %s\"%time.ctime(os.path.getmtime(\"Abstract_122162007.docx\")))\n",
        "print(\"created:%s\"%time.ctime(os.path.getctime(\"Abstract_122162007.docx\")))"
      ],
      "execution_count": null,
      "outputs": [
        {
          "output_type": "error",
          "ename": "FileNotFoundError",
          "evalue": "ignored",
          "traceback": [
            "\u001b[0;31m---------------------------------------------------------------------------\u001b[0m",
            "\u001b[0;31mFileNotFoundError\u001b[0m                         Traceback (most recent call last)",
            "\u001b[0;32m<ipython-input-8-aabc0fdb4ac1>\u001b[0m in \u001b[0;36m<module>\u001b[0;34m()\u001b[0m\n\u001b[1;32m      1\u001b[0m \u001b[0;31m# TO GET FILE CREATION & MODIFICATION DATE/TIME\u001b[0m\u001b[0;34m\u001b[0m\u001b[0;34m\u001b[0m\u001b[0;34m\u001b[0m\u001b[0m\n\u001b[1;32m      2\u001b[0m \u001b[0;32mimport\u001b[0m \u001b[0mos\u001b[0m\u001b[0;34m.\u001b[0m\u001b[0mpath\u001b[0m\u001b[0;34m,\u001b[0m\u001b[0mtime\u001b[0m\u001b[0;34m\u001b[0m\u001b[0;34m\u001b[0m\u001b[0m\n\u001b[0;32m----> 3\u001b[0;31m \u001b[0mprint\u001b[0m\u001b[0;34m(\u001b[0m\u001b[0;34m\"Last modified : %s\"\u001b[0m\u001b[0;34m%\u001b[0m\u001b[0mtime\u001b[0m\u001b[0;34m.\u001b[0m\u001b[0mctime\u001b[0m\u001b[0;34m(\u001b[0m\u001b[0mos\u001b[0m\u001b[0;34m.\u001b[0m\u001b[0mpath\u001b[0m\u001b[0;34m.\u001b[0m\u001b[0mgetmtime\u001b[0m\u001b[0;34m(\u001b[0m\u001b[0;34m\"Abstract_122162007.docx\"\u001b[0m\u001b[0;34m)\u001b[0m\u001b[0;34m)\u001b[0m\u001b[0;34m)\u001b[0m\u001b[0;34m\u001b[0m\u001b[0;34m\u001b[0m\u001b[0m\n\u001b[0m\u001b[1;32m      4\u001b[0m \u001b[0mprint\u001b[0m\u001b[0;34m(\u001b[0m\u001b[0;34m\"created:%s\"\u001b[0m\u001b[0;34m%\u001b[0m\u001b[0mtime\u001b[0m\u001b[0;34m.\u001b[0m\u001b[0mctime\u001b[0m\u001b[0;34m(\u001b[0m\u001b[0mos\u001b[0m\u001b[0;34m.\u001b[0m\u001b[0mpath\u001b[0m\u001b[0;34m.\u001b[0m\u001b[0mgetctime\u001b[0m\u001b[0;34m(\u001b[0m\u001b[0;34m\"Abstract_122162007.docx\"\u001b[0m\u001b[0;34m)\u001b[0m\u001b[0;34m)\u001b[0m\u001b[0;34m)\u001b[0m\u001b[0;34m\u001b[0m\u001b[0;34m\u001b[0m\u001b[0m\n",
            "\u001b[0;32m/usr/lib/python3.7/genericpath.py\u001b[0m in \u001b[0;36mgetmtime\u001b[0;34m(filename)\u001b[0m\n\u001b[1;32m     53\u001b[0m \u001b[0;32mdef\u001b[0m \u001b[0mgetmtime\u001b[0m\u001b[0;34m(\u001b[0m\u001b[0mfilename\u001b[0m\u001b[0;34m)\u001b[0m\u001b[0;34m:\u001b[0m\u001b[0;34m\u001b[0m\u001b[0;34m\u001b[0m\u001b[0m\n\u001b[1;32m     54\u001b[0m     \u001b[0;34m\"\"\"Return the last modification time of a file, reported by os.stat().\"\"\"\u001b[0m\u001b[0;34m\u001b[0m\u001b[0;34m\u001b[0m\u001b[0m\n\u001b[0;32m---> 55\u001b[0;31m     \u001b[0;32mreturn\u001b[0m \u001b[0mos\u001b[0m\u001b[0;34m.\u001b[0m\u001b[0mstat\u001b[0m\u001b[0;34m(\u001b[0m\u001b[0mfilename\u001b[0m\u001b[0;34m)\u001b[0m\u001b[0;34m.\u001b[0m\u001b[0mst_mtime\u001b[0m\u001b[0;34m\u001b[0m\u001b[0;34m\u001b[0m\u001b[0m\n\u001b[0m\u001b[1;32m     56\u001b[0m \u001b[0;34m\u001b[0m\u001b[0m\n\u001b[1;32m     57\u001b[0m \u001b[0;34m\u001b[0m\u001b[0m\n",
            "\u001b[0;31mFileNotFoundError\u001b[0m: [Errno 2] No such file or directory: 'Abstract_122162007.docx'"
          ]
        }
      ]
    },
    {
      "cell_type": "code",
      "metadata": {
        "id": "V7HX8NmX8C7I",
        "colab": {
          "base_uri": "https://localhost:8080/"
        },
        "outputId": "61e07ec4-865d-48bd-86d7-abc9d181097b"
      },
      "source": [
        "#PYTHON PROGRAM ON FIBONNACI NUMBER USING RECURSION FUNCTION\n",
        "# RECURSSION - FUNCTION CALLED BY ITSELF \n",
        "# FIBONACCI = FIBONNACI (N-1) + FIBONNACI(N-2) \n",
        "\n",
        "\n",
        "#function of the fibonnaci number(n)\n",
        "def Fibonnaci(n):\n",
        "  if n <=0:\n",
        "    print(\"Invalid input\")\n",
        "  elif n==1:\n",
        "    return 0\n",
        "  elif n==2:\n",
        "    return 1\n",
        "  else:\n",
        "    return Fibonnaci(n-1) + Fibonnaci(n-2)\n",
        "\n",
        "\n",
        "print(Fibonnaci(10))"
      ],
      "execution_count": null,
      "outputs": [
        {
          "output_type": "stream",
          "name": "stdout",
          "text": [
            "34\n"
          ]
        }
      ]
    },
    {
      "cell_type": "code",
      "metadata": {
        "colab": {
          "base_uri": "https://localhost:8080/"
        },
        "id": "uLLATeRqoNmZ",
        "outputId": "f73d632f-c834-4464-a07f-af7ea9963502"
      },
      "source": [
        "# PRINT SUM OF N NATURAL NUMBERS USING RECURSSION FUNCTION.\n",
        "# CONCEPT: 5 = 5+4+3+2+1 = 15\n",
        "# USE RECURR_SUM FUNCTION\n",
        "\n",
        "def RECURR_SUM(n):\n",
        "  if n<=1:\n",
        "    return n\n",
        "  else:\n",
        "    return  n + RECURR_SUM(n-1)\n",
        "print(RECURR_SUM(10))"
      ],
      "execution_count": null,
      "outputs": [
        {
          "output_type": "stream",
          "name": "stdout",
          "text": [
            "55\n"
          ]
        }
      ]
    },
    {
      "cell_type": "code",
      "metadata": {
        "id": "kKYiouuHsJVo",
        "colab": {
          "base_uri": "https://localhost:8080/"
        },
        "outputId": "4b1d8924-5341-4c9b-feb5-87d1d8ef3c46"
      },
      "source": [
        "# FACTORIAL OF A NUMBER BY RECURRSION FUNCTION \n",
        "def RECURR_factorial(n):\n",
        "  if n<=1:\n",
        "    return n\n",
        "  else:\n",
        "    return  n * RECURR_factorial(n-1)\n",
        "print(RECURR_factorial(24))"
      ],
      "execution_count": null,
      "outputs": [
        {
          "output_type": "stream",
          "name": "stdout",
          "text": [
            "620448401733239439360000\n"
          ]
        }
      ]
    },
    {
      "cell_type": "code",
      "metadata": {
        "colab": {
          "base_uri": "https://localhost:8080/"
        },
        "id": "_yodS3QUY_Yt",
        "outputId": "a63d25ce-a4cc-4abd-e992-fe9896e48ad4"
      },
      "source": [
        "#TO GET A STRING WHICH IS N(NON-NEGATIVE INTEGER) COPIES OF A GIVEN STR\n",
        "def copies(str,n):\n",
        "  result = \" \"\n",
        "  for i in range(n):\n",
        "    result = result + str\n",
        "  return result\n",
        "\n",
        "print(copies('UK',24))\n",
        "print(copies('VK',5))\n",
        "\n",
        "  \n"
      ],
      "execution_count": null,
      "outputs": [
        {
          "output_type": "stream",
          "name": "stdout",
          "text": [
            " UKUKUKUKUKUKUKUKUKUKUKUKUKUKUKUKUKUKUKUKUKUKUKUK\n",
            " VKVKVKVKVK\n"
          ]
        }
      ]
    },
    {
      "cell_type": "code",
      "metadata": {
        "colab": {
          "base_uri": "https://localhost:8080/",
          "height": 244
        },
        "id": "fi3bCEULk4rW",
        "outputId": "dae82c42-4e50-4170-c2dd-0f6b6db804cf"
      },
      "source": [
        "#MOVE ZEROS @ THE END OF THE ARR\n",
        "                                                ### DOUBT#########$$$$$$$$#@$#$#%\n",
        "def move(l):\n",
        "    new_list = [0] * len(l)\n",
        "    counter = 0\n",
        "\n",
        "    for i in range(len(l)):\n",
        "        if l[i] !=0:\n",
        "          new_list[counter] = l[i]\n",
        "          counter +=1\n",
        "\n",
        "    return new_list\n",
        "    \n",
        "listToStr = ' '.join([str(l) for elem in new_list])\n",
        "\n",
        "l=[1,9,8,4,0,0,2,7,0,6,0,9]\n",
        "move(l)\n",
        "print(listToStr)\n",
        "\n"
      ],
      "execution_count": null,
      "outputs": [
        {
          "output_type": "error",
          "ename": "NameError",
          "evalue": "ignored",
          "traceback": [
            "\u001b[0;31m---------------------------------------------------------------------------\u001b[0m",
            "\u001b[0;31mNameError\u001b[0m                                 Traceback (most recent call last)",
            "\u001b[0;32m<ipython-input-3-5fd2eb56f0a9>\u001b[0m in \u001b[0;36m<module>\u001b[0;34m()\u001b[0m\n\u001b[1;32m     12\u001b[0m     \u001b[0;32mreturn\u001b[0m \u001b[0mnew_list\u001b[0m\u001b[0;34m\u001b[0m\u001b[0;34m\u001b[0m\u001b[0m\n\u001b[1;32m     13\u001b[0m \u001b[0;34m\u001b[0m\u001b[0m\n\u001b[0;32m---> 14\u001b[0;31m \u001b[0mlistToStr\u001b[0m \u001b[0;34m=\u001b[0m \u001b[0;34m' '\u001b[0m\u001b[0;34m.\u001b[0m\u001b[0mjoin\u001b[0m\u001b[0;34m(\u001b[0m\u001b[0;34m[\u001b[0m\u001b[0mstr\u001b[0m\u001b[0;34m(\u001b[0m\u001b[0ml\u001b[0m\u001b[0;34m)\u001b[0m \u001b[0;32mfor\u001b[0m \u001b[0melem\u001b[0m \u001b[0;32min\u001b[0m \u001b[0mnew_list\u001b[0m\u001b[0;34m]\u001b[0m\u001b[0;34m)\u001b[0m\u001b[0;34m\u001b[0m\u001b[0;34m\u001b[0m\u001b[0m\n\u001b[0m\u001b[1;32m     15\u001b[0m \u001b[0;34m\u001b[0m\u001b[0m\n\u001b[1;32m     16\u001b[0m \u001b[0ml\u001b[0m\u001b[0;34m=\u001b[0m\u001b[0;34m[\u001b[0m\u001b[0;36m1\u001b[0m\u001b[0;34m,\u001b[0m\u001b[0;36m9\u001b[0m\u001b[0;34m,\u001b[0m\u001b[0;36m8\u001b[0m\u001b[0;34m,\u001b[0m\u001b[0;36m4\u001b[0m\u001b[0;34m,\u001b[0m\u001b[0;36m0\u001b[0m\u001b[0;34m,\u001b[0m\u001b[0;36m0\u001b[0m\u001b[0;34m,\u001b[0m\u001b[0;36m2\u001b[0m\u001b[0;34m,\u001b[0m\u001b[0;36m7\u001b[0m\u001b[0;34m,\u001b[0m\u001b[0;36m0\u001b[0m\u001b[0;34m,\u001b[0m\u001b[0;36m6\u001b[0m\u001b[0;34m,\u001b[0m\u001b[0;36m0\u001b[0m\u001b[0;34m,\u001b[0m\u001b[0;36m9\u001b[0m\u001b[0;34m]\u001b[0m\u001b[0;34m\u001b[0m\u001b[0;34m\u001b[0m\u001b[0m\n",
            "\u001b[0;31mNameError\u001b[0m: name 'new_list' is not defined"
          ]
        }
      ]
    },
    {
      "cell_type": "code",
      "metadata": {
        "colab": {
          "base_uri": "https://localhost:8080/"
        },
        "id": "WPS_aypwK2Jl",
        "outputId": "67e406c3-f2a9-491b-9c97-102be3d551c2"
      },
      "source": [
        "# BMI CALCULATION\n",
        "Height = float(input(\"ENter your Height in Centimeteres :\"))\n",
        "Weight = float(input(\"Enter your weight in KG : \"))\n",
        "BMI = (Weight /((Height/100)**2))\n",
        "if BMI <= 18.4:\n",
        "    print(\"You are underweight.\")\n",
        "elif BMI <= 24.9:\n",
        "    print(\"You are healthy.\")\n",
        "elif BMI <= 29.9:\n",
        "    print(\"You are over weight.\")\n",
        "elif BMI <= 34.9:\n",
        "    print(\"You are severely over weight.\")\n",
        "elif BMI <= 39.9:\n",
        "    print(\"You are obese.\")\n",
        "else:\n",
        "    print(\"You are severely obese.\")\n",
        "print(\"your BMI IS : \" ,BMI)"
      ],
      "execution_count": null,
      "outputs": [
        {
          "output_type": "stream",
          "name": "stdout",
          "text": [
            "ENter your Height in Centimeteres :172\n",
            "Enter your weight in KG : 77\n",
            "You are over weight.\n",
            "your BMI IS :  26.027582477014604\n"
          ]
        }
      ]
    },
    {
      "cell_type": "code",
      "metadata": {
        "id": "zvP_wkJmN27n",
        "colab": {
          "base_uri": "https://localhost:8080/"
        },
        "outputId": "877cd2b5-5e8f-4d51-b72c-a684bdb033a7"
      },
      "source": [
        "# CALCULATION OF  SUM OF DIGITS\n",
        "T=int(input())   # to calculate  how many digits we have \n",
        "while(T!=0):\n",
        "  # no:of:digits\n",
        "  n=int(input())\n",
        "  # To store the number\n",
        "  sum = 0 \n",
        "    \n",
        "  while(n!=0):\n",
        "    temp = n%10          \n",
        "    sum= sum + temp       # Add and store the digits\n",
        "    n=n//10\n",
        "  print(sum)\n",
        "  T-=1"
      ],
      "execution_count": null,
      "outputs": [
        {
          "output_type": "stream",
          "name": "stdout",
          "text": [
            "2\n",
            "123\n",
            "6\n",
            "560\n",
            "11\n"
          ]
        }
      ]
    },
    {
      "cell_type": "code",
      "metadata": {
        "colab": {
          "base_uri": "https://localhost:8080/"
        },
        "id": "DV3LBbHP4tqJ",
        "outputId": "c2aeb0ec-2053-4240-aa4f-9b84ee9a8ce3"
      },
      "source": [
        "# cOncatenation of list\n",
        "# concatenate all the elements in list & retuen it\n",
        "def Concatenate_list(list):\n",
        "  result = ' '\n",
        "  for element in list:\n",
        "    result += str(element)\n",
        "  return result\n",
        "\n",
        "print(Concatenate_list([1,2,3,4,5,6,7,8,9]))\n"
      ],
      "execution_count": null,
      "outputs": [
        {
          "output_type": "stream",
          "name": "stdout",
          "text": [
            " 123456789\n"
          ]
        }
      ]
    },
    {
      "cell_type": "code",
      "metadata": {
        "colab": {
          "base_uri": "https://localhost:8080/"
        },
        "id": "uD8CVaMUKvDj",
        "outputId": "9ec7765f-4de0-4207-d8d6-de346e5564ce"
      },
      "source": [
        "#TO SORT 3 INTEGERS WITHOUT USING CONDITIONAL STMTS & LOOPS\n",
        "x= int(input())\n",
        "y= int(input())\n",
        "z= int(input())\n",
        "a1= min(x,y,z)\n",
        "a3= max(x,y,z)\n",
        "a2= (x+y+z) - a1 - a3\n",
        "print(\"Numbers in sorted oder: \",a1,a2,a3)"
      ],
      "execution_count": null,
      "outputs": [
        {
          "output_type": "stream",
          "name": "stdout",
          "text": [
            "26\n",
            "25\n",
            "24\n",
            "Numbers in sorted oder:  24 25 26\n"
          ]
        }
      ]
    },
    {
      "cell_type": "code",
      "metadata": {
        "colab": {
          "base_uri": "https://localhost:8080/"
        },
        "id": "t_5auUHjOBpX",
        "outputId": "60110e2b-9d74-437d-fa11-457f7ba36181"
      },
      "source": [
        "# to get details of Math module\n",
        "import math\n",
        "math_list = dir(math)\n",
        "print(math_list)"
      ],
      "execution_count": null,
      "outputs": [
        {
          "output_type": "stream",
          "name": "stdout",
          "text": [
            "['__doc__', '__loader__', '__name__', '__package__', '__spec__', 'acos', 'acosh', 'asin', 'asinh', 'atan', 'atan2', 'atanh', 'ceil', 'copysign', 'cos', 'cosh', 'degrees', 'e', 'erf', 'erfc', 'exp', 'expm1', 'fabs', 'factorial', 'floor', 'fmod', 'frexp', 'fsum', 'gamma', 'gcd', 'hypot', 'inf', 'isclose', 'isfinite', 'isinf', 'isnan', 'ldexp', 'lgamma', 'log', 'log10', 'log1p', 'log2', 'modf', 'nan', 'pi', 'pow', 'radians', 'remainder', 'sin', 'sinh', 'sqrt', 'tan', 'tanh', 'tau', 'trunc']\n"
          ]
        }
      ]
    },
    {
      "cell_type": "code",
      "metadata": {
        "colab": {
          "base_uri": "https://localhost:8080/"
        },
        "id": "RPHNFg_kehEI",
        "outputId": "ef632dd4-6f91-409b-e1d6-f09e7c4e5be2"
      },
      "source": [
        "# to get command line arguments (name of the scripts , the nu:of : arguments , arguments passed to the script)\n",
        "import sys\n",
        "# The Name or path of the script\n",
        "print(sys.argv[0])\n",
        "print(len(sys.argv)) # No:of:arguments\n",
        "print(str(sys.argv)) # Argument list"
      ],
      "execution_count": null,
      "outputs": [
        {
          "output_type": "stream",
          "name": "stdout",
          "text": [
            "/usr/local/lib/python3.7/dist-packages/ipykernel_launcher.py\n",
            "3\n",
            "['/usr/local/lib/python3.7/dist-packages/ipykernel_launcher.py', '-f', '/root/.local/share/jupyter/runtime/kernel-8b5e212f-2d60-417b-88ac-477f6c2def7c.json']\n"
          ]
        }
      ]
    },
    {
      "cell_type": "code",
      "metadata": {
        "colab": {
          "base_uri": "https://localhost:8080/"
        },
        "id": "BN8319zcjAWA",
        "outputId": "182a8b6a-c153-491b-bc44-08dad3dd29cf"
      },
      "source": [
        "# to get current value of Recurssion limit\n",
        "import sys\n",
        "print(sys.getrecursionlimit())\n",
        "print()"
      ],
      "execution_count": null,
      "outputs": [
        {
          "output_type": "stream",
          "name": "stdout",
          "text": [
            "1000\n",
            "\n"
          ]
        }
      ]
    },
    {
      "cell_type": "code",
      "metadata": {
        "colab": {
          "base_uri": "https://localhost:8080/"
        },
        "id": "JvSV2k8Ej6kw",
        "outputId": "602f4633-d647-4cf1-de44-cb649dba5322"
      },
      "source": [
        "# to concatenate list by JOIN METHOD\n",
        "list_colours = ['red', 'white','yellow']\n",
        "result = \" \".join(list_colours)\n",
        "print(result)"
      ],
      "execution_count": null,
      "outputs": [
        {
          "output_type": "stream",
          "name": "stdout",
          "text": [
            "red white yellow\n"
          ]
        }
      ]
    },
    {
      "cell_type": "code",
      "metadata": {
        "colab": {
          "base_uri": "https://localhost:8080/",
          "height": 197
        },
        "id": "uRy1M5-ykzq1",
        "outputId": "141c987d-7e3d-4833-9e3a-dfb7fc2f5b31"
      },
      "source": [
        "s= sum([24,25])         #### DOUBT#########$$$$$$$$#@$#$#%\n",
        "print(\"The Sum is :\", s)\n",
        "print()"
      ],
      "execution_count": null,
      "outputs": [
        {
          "output_type": "error",
          "ename": "TypeError",
          "evalue": "ignored",
          "traceback": [
            "\u001b[0;31m---------------------------------------------------------------------------\u001b[0m",
            "\u001b[0;31mTypeError\u001b[0m                                 Traceback (most recent call last)",
            "\u001b[0;32m<ipython-input-24-c3b8d8b08b0b>\u001b[0m in \u001b[0;36m<module>\u001b[0;34m()\u001b[0m\n\u001b[0;32m----> 1\u001b[0;31m \u001b[0ms\u001b[0m\u001b[0;34m=\u001b[0m \u001b[0msum\u001b[0m\u001b[0;34m(\u001b[0m\u001b[0;34m[\u001b[0m\u001b[0;36m24\u001b[0m\u001b[0;34m,\u001b[0m\u001b[0;36m25\u001b[0m\u001b[0;34m]\u001b[0m\u001b[0;34m)\u001b[0m\u001b[0;34m\u001b[0m\u001b[0;34m\u001b[0m\u001b[0m\n\u001b[0m\u001b[1;32m      2\u001b[0m \u001b[0mprint\u001b[0m\u001b[0;34m(\u001b[0m\u001b[0;34m\"The Sum is :\"\u001b[0m\u001b[0;34m,\u001b[0m \u001b[0ms\u001b[0m\u001b[0;34m)\u001b[0m\u001b[0;34m\u001b[0m\u001b[0;34m\u001b[0m\u001b[0m\n\u001b[1;32m      3\u001b[0m \u001b[0mprint\u001b[0m\u001b[0;34m(\u001b[0m\u001b[0;34m)\u001b[0m\u001b[0;34m\u001b[0m\u001b[0;34m\u001b[0m\u001b[0m\n",
            "\u001b[0;31mTypeError\u001b[0m: 'int' object is not callable"
          ]
        }
      ]
    },
    {
      "cell_type": "code",
      "metadata": {
        "colab": {
          "base_uri": "https://localhost:8080/"
        },
        "id": "hleAdN92liyy",
        "outputId": "ee17bdcd-9c62-46d2-f4f6-5b029316733d"
      },
      "source": [
        "# CONVERT DECIMAL TO BINARY\n",
        "# Function to print binary number using recursion\n",
        "def convertToBinary(n):\n",
        "   if n > 1:\n",
        "       convertToBinary(n//2)\n",
        "   print(n%2,end = '')\n",
        "\n",
        "# decimal number\n",
        "dec = 350\n",
        "\n",
        "convertToBinary(dec)\n",
        "print()\n"
      ],
      "execution_count": null,
      "outputs": [
        {
          "output_type": "stream",
          "name": "stdout",
          "text": [
            "101011110\n"
          ]
        }
      ]
    },
    {
      "cell_type": "code",
      "metadata": {
        "colab": {
          "base_uri": "https://localhost:8080/"
        },
        "id": "lpYB-IB3uJAQ",
        "outputId": "d89f3462-47da-4676-88ee-64e1a07d0cdb"
      },
      "source": [
        "#ADD TWO MATRICES\n",
        "#Matrix Addition using Nested Loop\n",
        "# Program to add two matrices using nested loop\n",
        "\n",
        "X = [[12,7,3],\n",
        "    [4 ,5,6],\n",
        "    [7 ,8,9]]\n",
        "\n",
        "Y = [[5,8,1],\n",
        "    [6,7,3],\n",
        "    [4,5,9]]\n",
        "\n",
        "result = [[0,0,0],\n",
        "         [0,0,0],\n",
        "         [0,0,0]]\n",
        "\n",
        "# iterate through rows\n",
        "for i in range(len(X)):\n",
        "   # iterate through columns\n",
        "   for j in range(len(X[0])):\n",
        "       result[i][j] = X[i][j] + Y[i][j]\n",
        "\n",
        "for r in result:\n",
        "   print(r)\n"
      ],
      "execution_count": null,
      "outputs": [
        {
          "output_type": "stream",
          "name": "stdout",
          "text": [
            "[17, 15, 4]\n",
            "[10, 12, 9]\n",
            "[11, 13, 18]\n"
          ]
        }
      ]
    },
    {
      "cell_type": "code",
      "metadata": {
        "colab": {
          "base_uri": "https://localhost:8080/"
        },
        "id": "ciH7Kq6K2o0h",
        "outputId": "c086b1ea-c0fd-4030-9315-8dff3b0d8e32"
      },
      "source": [
        "#ADD TWO MATRICES\n",
        "#Matrix Addition using Nested List Comprehension\n",
        "# Program to add two matrices using list comprehension\n",
        "\n",
        "X = [[12,7,13],\n",
        "    [4 ,5,16],\n",
        "    [7 ,8,9],\n",
        "    [1,2,3]]\n",
        "\n",
        "Y = [[5,8,1],\n",
        "    [6,7,3],\n",
        "    [4,5,9],\n",
        "    [11,12,13]]\n",
        "\n",
        "result = [[X[i][j] + Y[i][j]  for j in range(len(X[0]))] for i in range(len(X))]\n",
        "\n",
        "for r in result:\n",
        "   print(r)"
      ],
      "execution_count": null,
      "outputs": [
        {
          "output_type": "stream",
          "name": "stdout",
          "text": [
            "[17, 15, 14]\n",
            "[10, 12, 19]\n",
            "[11, 13, 18]\n",
            "[12, 14, 16]\n"
          ]
        }
      ]
    },
    {
      "cell_type": "code",
      "metadata": {
        "colab": {
          "base_uri": "https://localhost:8080/"
        },
        "id": "eQf1Gwhs4-KJ",
        "outputId": "4b060a5a-1b77-4788-bc59-98ec00d80b2e"
      },
      "source": [
        "#SUBTRACTION OF MATRICES\n",
        "X = [[12,7,13],\n",
        "    [4 ,5,16],\n",
        "    [7 ,8,9],\n",
        "    [1,2,3]]\n",
        "\n",
        "Y = [[5,8,1],\n",
        "    [6,7,3],\n",
        "    [4,5,9],\n",
        "    [11,12,13]]\n",
        "\n",
        "result = [[X[i][j] - Y[i][j]  for j in range(len(Y[0]))] for i in range(len(Y))]\n",
        "\n",
        "for r in result:\n",
        "   print(r)"
      ],
      "execution_count": null,
      "outputs": [
        {
          "output_type": "stream",
          "name": "stdout",
          "text": [
            "[7, -1, 12]\n",
            "[-2, -2, 13]\n",
            "[3, 3, 0]\n",
            "[-10, -10, -10]\n"
          ]
        }
      ]
    },
    {
      "cell_type": "code",
      "metadata": {
        "colab": {
          "base_uri": "https://localhost:8080/"
        },
        "id": "wCN1D5Ap5QT0",
        "outputId": "694a98f8-07e3-4220-e763-5a4a7de9a1e4"
      },
      "source": [
        "# Program to multiply two matrices using nested loops\n",
        "\n",
        "# 3x3 matrix\n",
        "X = [[12,7,3],\n",
        "    [4 ,5,6],\n",
        "    [7 ,8,9]]\n",
        "# 3x4 matrix\n",
        "Y = [[5,8,1,2],\n",
        "    [6,7,3,0],\n",
        "    [4,5,9,1]]\n",
        "# result is 3x4\n",
        "result = [[0,0,0,0],\n",
        "         [0,0,0,0],\n",
        "         [0,0,0,0]]\n",
        "\n",
        "# iterate through rows of X\n",
        "for i in range(len(X)):\n",
        "   # iterate through columns of Y\n",
        "   for j in range(len(Y[0])):\n",
        "       # iterate through rows of Y\n",
        "       for k in range(len(Y)):\n",
        "           result[i][j] += X[i][k] * Y[k][j]\n",
        "\n",
        "for r in result:\n",
        "   print(r)\n"
      ],
      "execution_count": null,
      "outputs": [
        {
          "output_type": "stream",
          "name": "stdout",
          "text": [
            "[114, 160, 60, 27]\n",
            "[74, 97, 73, 14]\n",
            "[119, 157, 112, 23]\n"
          ]
        }
      ]
    },
    {
      "cell_type": "code",
      "metadata": {
        "colab": {
          "base_uri": "https://localhost:8080/"
        },
        "id": "kzbzz3kxFd84",
        "outputId": "04d6713d-6e6a-4e6e-cce1-840b9027d379"
      },
      "source": [
        "#Matrix Transpose using Nested Loop\n",
        "# Program to transpose a matrix using a nested loop\n",
        "\n",
        "X = [[12,7,4],\n",
        "    [4 ,5,5],\n",
        "    [3 ,8,6]]\n",
        "\n",
        "result = [[0,0,0],\n",
        "         [0,0,0],[0,0,0]]\n",
        "\n",
        "# iterate through rows\n",
        "for i in range(len(X)):\n",
        "  for j in range(len(X[0])):                     # iterate through columns\n",
        "    result[j][i] = X[i][j]                       # Swapping the values\n",
        "for r in result:\n",
        "  print(r)"
      ],
      "execution_count": null,
      "outputs": [
        {
          "output_type": "stream",
          "name": "stdout",
          "text": [
            "[12, 4, 3]\n",
            "[7, 5, 8]\n",
            "[4, 5, 6]\n"
          ]
        }
      ]
    },
    {
      "cell_type": "code",
      "metadata": {
        "id": "wXSD2Yg4NiyQ",
        "colab": {
          "base_uri": "https://localhost:8080/"
        },
        "outputId": "041c01cc-a041-42b3-ede5-34f206b69c27"
      },
      "source": [
        "# To Test a number whether its greater than the certain number in a given list\n",
        "num = [2,4,6,8,10]\n",
        "print()\n",
        "print(all(x>1 for x in num))\n",
        "print(all(x>4 for x in num))\n",
        "print()"
      ],
      "execution_count": null,
      "outputs": [
        {
          "output_type": "stream",
          "name": "stdout",
          "text": [
            "\n",
            "True\n",
            "False\n",
            "\n"
          ]
        }
      ]
    },
    {
      "cell_type": "code",
      "metadata": {
        "colab": {
          "base_uri": "https://localhost:8080/"
        },
        "id": "Cq5BTv_XnBqH",
        "outputId": "22643d8b-f031-4e5b-8e04-8a32403f53f1"
      },
      "source": [
        "# To count the specific occurence in the string\n",
        "s = 'madam'\n",
        "print(s.count(\"m\"))\n",
        "print()"
      ],
      "execution_count": null,
      "outputs": [
        {
          "output_type": "stream",
          "name": "stdout",
          "text": [
            "2\n",
            "\n"
          ]
        }
      ]
    },
    {
      "cell_type": "code",
      "metadata": {
        "colab": {
          "base_uri": "https://localhost:8080/"
        },
        "id": "e9DtDlcNnWxl",
        "outputId": "c0f6f8dd-721c-4515-b247-598b770e5eec"
      },
      "source": [
        "# To get ASCII VALUE OF CHARACTER\n",
        "# use ord-function\n",
        "#The ord() method in Python converts a character into its Unicode code value.\n",
        "\n",
        "print(ord('u'))\n",
        "print(ord('b'))\n",
        "print(ord('a'))\n",
        "print(ord('s'))"
      ],
      "execution_count": null,
      "outputs": [
        {
          "output_type": "stream",
          "name": "stdout",
          "text": [
            "117\n",
            "98\n",
            "97\n",
            "115\n"
          ]
        }
      ]
    },
    {
      "cell_type": "code",
      "metadata": {
        "id": "99tv9imAowg1",
        "colab": {
          "base_uri": "https://localhost:8080/"
        },
        "outputId": "bc8bfb8e-e3e2-49d9-ed7c-b11d208741af"
      },
      "source": [
        "def is_palindrome(s):\n",
        "  return s==s[::-1]\n",
        "# MAIN FUNCTION\n",
        "s='Geks'\n",
        "res = is_palindrome(s)\n",
        "print(res)\n"
      ],
      "execution_count": null,
      "outputs": [
        {
          "output_type": "stream",
          "name": "stdout",
          "text": [
            "False\n"
          ]
        }
      ]
    },
    {
      "cell_type": "code",
      "metadata": {
        "colab": {
          "base_uri": "https://localhost:8080/"
        },
        "id": "8olXnYxWj_m0",
        "outputId": "c6c912f7-95f4-4d05-de3b-7e81792afacf"
      },
      "source": [
        "# copy of its own code\n",
        "                                # NEEDED TO COMPUTE"
      ],
      "execution_count": null,
      "outputs": [
        {
          "output_type": "stream",
          "name": "stdout",
          "text": [
            "yes\n",
            "\n"
          ]
        }
      ]
    },
    {
      "cell_type": "code",
      "metadata": {
        "colab": {
          "base_uri": "https://localhost:8080/"
        },
        "id": "AezBj8f5sFrk",
        "outputId": "eb48c21d-9593-48ff-dbba-dafd7cc8b809"
      },
      "source": [
        "# SWAPPING TWO VARIABLES\n",
        "A = int(input(\"enter a number: \"))\n",
        "B = int(input(\"enter a number: \"))\n",
        "print(\"Before swap variables are a = %d, b = % d\" %(A,B))\n",
        "# SWAPPING TWO VARAIBLES\n",
        "A, B = B, A\n",
        "print(\"AFTER swap variables are a = %d, b = % d\" %(A,B))\n",
        "\n",
        "print()"
      ],
      "execution_count": null,
      "outputs": [
        {
          "output_type": "stream",
          "name": "stdout",
          "text": [
            "enter a number: 24\n",
            "enter a number: 25\n",
            "Before swap variables are a = 24, b =  25\n",
            "AFTER swap variables are a = 25, b =  24\n",
            "\n"
          ]
        }
      ]
    },
    {
      "cell_type": "code",
      "metadata": {
        "colab": {
          "base_uri": "https://localhost:8080/"
        },
        "id": "TMFcrIi2ta_Z",
        "outputId": "d816c0d1-98f2-4896-f860-04e5132f1f4b"
      },
      "source": [
        "#  TO GET THE IDENTITY OF AN OBJECT \n",
        "obj1 = object()\n",
        "obj1_address = id(obj1)\n",
        "print()\n",
        "print(obj1_address)\n",
        "print()"
      ],
      "execution_count": null,
      "outputs": [
        {
          "output_type": "stream",
          "name": "stdout",
          "text": [
            "\n",
            "140249747402688\n",
            "\n"
          ]
        }
      ]
    },
    {
      "cell_type": "code",
      "metadata": {
        "colab": {
          "base_uri": "https://localhost:8080/"
        },
        "id": "pcxYEIZOvAI0",
        "outputId": "f632a9c3-2b1b-4ece-afb4-f4a9382118b5"
      },
      "source": [
        "# convert string to list\n",
        "a = ' k ubas' \n",
        "print()\n",
        "print(list(a))\n",
        "print()"
      ],
      "execution_count": null,
      "outputs": [
        {
          "output_type": "stream",
          "name": "stdout",
          "text": [
            "\n",
            "[' ', 'k', ' ', 'u', 'b', 'a', 's']\n",
            "\n"
          ]
        }
      ]
    },
    {
      "cell_type": "code",
      "metadata": {
        "id": "CNTOHFiUvUB0",
        "colab": {
          "base_uri": "https://localhost:8080/"
        },
        "outputId": "d50e0fb8-869e-4f2e-f273-91922fbeff83"
      },
      "source": [
        "\n",
        "# to check whthger a sring is numeric\n",
        "str = 'ab123'\n",
        "try:\n",
        "  i = float(str)\n",
        "except:\n",
        "  print(\"Non \\nNumeric\")\n",
        "print()"
      ],
      "execution_count": null,
      "outputs": [
        {
          "output_type": "stream",
          "name": "stdout",
          "text": [
            "Non \n",
            "Numeric\n",
            "\n"
          ]
        }
      ]
    },
    {
      "cell_type": "code",
      "metadata": {
        "colab": {
          "base_uri": "https://localhost:8080/"
        },
        "id": "pMKFb6CApAEV",
        "outputId": "468250a7-8395-4cf0-e3c4-f973c4ecf392"
      },
      "source": [
        "# To Print Current call stack\n",
        "import traceback\n",
        "print()\n",
        "def f1():return abc()\n",
        "def abc():traceback.print_stack()\n",
        "f1()\n",
        "print()"
      ],
      "execution_count": null,
      "outputs": [
        {
          "output_type": "stream",
          "name": "stdout",
          "text": [
            "\n",
            "\n"
          ]
        },
        {
          "output_type": "stream",
          "name": "stderr",
          "text": [
            "  File \"/usr/lib/python3.7/runpy.py\", line 193, in _run_module_as_main\n",
            "    \"__main__\", mod_spec)\n",
            "  File \"/usr/lib/python3.7/runpy.py\", line 85, in _run_code\n",
            "    exec(code, run_globals)\n",
            "  File \"/usr/local/lib/python3.7/dist-packages/ipykernel_launcher.py\", line 16, in <module>\n",
            "    app.launch_new_instance()\n",
            "  File \"/usr/local/lib/python3.7/dist-packages/traitlets/config/application.py\", line 846, in launch_instance\n",
            "    app.start()\n",
            "  File \"/usr/local/lib/python3.7/dist-packages/ipykernel/kernelapp.py\", line 499, in start\n",
            "    self.io_loop.start()\n",
            "  File \"/usr/local/lib/python3.7/dist-packages/tornado/platform/asyncio.py\", line 132, in start\n",
            "    self.asyncio_loop.run_forever()\n",
            "  File \"/usr/lib/python3.7/asyncio/base_events.py\", line 541, in run_forever\n",
            "    self._run_once()\n",
            "  File \"/usr/lib/python3.7/asyncio/base_events.py\", line 1786, in _run_once\n",
            "    handle._run()\n",
            "  File \"/usr/lib/python3.7/asyncio/events.py\", line 88, in _run\n",
            "    self._context.run(self._callback, *self._args)\n",
            "  File \"/usr/local/lib/python3.7/dist-packages/tornado/platform/asyncio.py\", line 122, in _handle_events\n",
            "    handler_func(fileobj, events)\n",
            "  File \"/usr/local/lib/python3.7/dist-packages/tornado/stack_context.py\", line 300, in null_wrapper\n",
            "    return fn(*args, **kwargs)\n",
            "  File \"/usr/local/lib/python3.7/dist-packages/zmq/eventloop/zmqstream.py\", line 448, in _handle_events\n",
            "    self._handle_recv()\n",
            "  File \"/usr/local/lib/python3.7/dist-packages/zmq/eventloop/zmqstream.py\", line 477, in _handle_recv\n",
            "    self._run_callback(callback, msg)\n",
            "  File \"/usr/local/lib/python3.7/dist-packages/zmq/eventloop/zmqstream.py\", line 431, in _run_callback\n",
            "    callback(*args, **kwargs)\n",
            "  File \"/usr/local/lib/python3.7/dist-packages/tornado/stack_context.py\", line 300, in null_wrapper\n",
            "    return fn(*args, **kwargs)\n",
            "  File \"/usr/local/lib/python3.7/dist-packages/ipykernel/kernelbase.py\", line 283, in dispatcher\n",
            "    return self.dispatch_shell(stream, msg)\n",
            "  File \"/usr/local/lib/python3.7/dist-packages/ipykernel/kernelbase.py\", line 233, in dispatch_shell\n",
            "    handler(stream, idents, msg)\n",
            "  File \"/usr/local/lib/python3.7/dist-packages/ipykernel/kernelbase.py\", line 399, in execute_request\n",
            "    user_expressions, allow_stdin)\n",
            "  File \"/usr/local/lib/python3.7/dist-packages/ipykernel/ipkernel.py\", line 208, in do_execute\n",
            "    res = shell.run_cell(code, store_history=store_history, silent=silent)\n",
            "  File \"/usr/local/lib/python3.7/dist-packages/ipykernel/zmqshell.py\", line 537, in run_cell\n",
            "    return super(ZMQInteractiveShell, self).run_cell(*args, **kwargs)\n",
            "  File \"/usr/local/lib/python3.7/dist-packages/IPython/core/interactiveshell.py\", line 2718, in run_cell\n",
            "    interactivity=interactivity, compiler=compiler, result=result)\n",
            "  File \"/usr/local/lib/python3.7/dist-packages/IPython/core/interactiveshell.py\", line 2822, in run_ast_nodes\n",
            "    if self.run_code(code, result):\n",
            "  File \"/usr/local/lib/python3.7/dist-packages/IPython/core/interactiveshell.py\", line 2882, in run_code\n",
            "    exec(code_obj, self.user_global_ns, self.user_ns)\n",
            "  File \"<ipython-input-3-cf61f117418b>\", line 6, in <module>\n",
            "    f1()\n",
            "  File \"<ipython-input-3-cf61f117418b>\", line 4, in f1\n",
            "    def f1():return abc()\n",
            "  File \"<ipython-input-3-cf61f117418b>\", line 5, in abc\n",
            "    def abc():traceback.print_stack()\n"
          ]
        }
      ]
    },
    {
      "cell_type": "code",
      "metadata": {
        "colab": {
          "base_uri": "https://localhost:8080/"
        },
        "id": "MDqiDiSdo3_f",
        "outputId": "56232afe-9c33-4a64-a3a7-000dec3025ea"
      },
      "source": [
        "import time  # to print time\n",
        "print()\n",
        "print(time.ctime())\n",
        "print()"
      ],
      "execution_count": null,
      "outputs": [
        {
          "output_type": "stream",
          "name": "stdout",
          "text": [
            "\n",
            "Thu Nov 25 14:12:39 2021\n",
            "\n"
          ]
        }
      ]
    },
    {
      "cell_type": "code",
      "metadata": {
        "colab": {
          "base_uri": "https://localhost:8080/"
        },
        "id": "eZlfZLOXp3GD",
        "outputId": "2b649dea-8330-4aae-81e7-3ededb855dfb"
      },
      "source": [
        "# To Access  & print URL'S Content to the console\n",
        "from http.client import HTTPConnection\n",
        "conn = HTTPConnection(\"example.com\")\n",
        "conn.request(\"GET\", \"/\")\n",
        "result = conn.getresponse()\n",
        "# Retrieves the entire connection\n",
        "contents = result.read()\n",
        "print(contents)"
      ],
      "execution_count": null,
      "outputs": [
        {
          "output_type": "stream",
          "name": "stdout",
          "text": [
            "b'<!doctype html>\\n<html>\\n<head>\\n    <title>Example Domain</title>\\n\\n    <meta charset=\"utf-8\" />\\n    <meta http-equiv=\"Content-type\" content=\"text/html; charset=utf-8\" />\\n    <meta name=\"viewport\" content=\"width=device-width, initial-scale=1\" />\\n    <style type=\"text/css\">\\n    body {\\n        background-color: #f0f0f2;\\n        margin: 0;\\n        padding: 0;\\n        font-family: -apple-system, system-ui, BlinkMacSystemFont, \"Segoe UI\", \"Open Sans\", \"Helvetica Neue\", Helvetica, Arial, sans-serif;\\n        \\n    }\\n    div {\\n        width: 600px;\\n        margin: 5em auto;\\n        padding: 2em;\\n        background-color: #fdfdff;\\n        border-radius: 0.5em;\\n        box-shadow: 2px 3px 7px 2px rgba(0,0,0,0.02);\\n    }\\n    a:link, a:visited {\\n        color: #38488f;\\n        text-decoration: none;\\n    }\\n    @media (max-width: 700px) {\\n        div {\\n            margin: 0 auto;\\n            width: auto;\\n        }\\n    }\\n    </style>    \\n</head>\\n\\n<body>\\n<div>\\n    <h1>Example Domain</h1>\\n    <p>This domain is for use in illustrative examples in documents. You may use this\\n    domain in literature without prior coordination or asking for permission.</p>\\n    <p><a href=\"https://www.iana.org/domains/example\">More information...</a></p>\\n</div>\\n</body>\\n</html>\\n'\n"
          ]
        }
      ]
    },
    {
      "cell_type": "markdown",
      "metadata": {
        "id": "Z2OHEjHvSYJI"
      },
      "source": [
        "# BASIC 2 EXCERCISE"
      ]
    },
    {
      "cell_type": "code",
      "metadata": {
        "id": "n5_7oby1cNQc"
      },
      "source": [
        ""
      ],
      "execution_count": null,
      "outputs": []
    },
    {
      "cell_type": "markdown",
      "metadata": {
        "id": "9sXQB2BxG55t"
      },
      "source": [
        "## **PROGRAMIZ TUTORIAL VIDEO PRACTICE SERIES**"
      ]
    },
    {
      "cell_type": "code",
      "metadata": {
        "colab": {
          "base_uri": "https://localhost:8080/"
        },
        "id": "N_7yoB3wozTA",
        "outputId": "cd229735-af8e-47f4-9643-1454e53a0d66"
      },
      "source": [
        "#IMPORTING KEYWORDS\n",
        "import keyword\n",
        "print(keyword.kwlist)"
      ],
      "execution_count": null,
      "outputs": [
        {
          "output_type": "stream",
          "name": "stdout",
          "text": [
            "['False', 'None', 'True', 'and', 'as', 'assert', 'async', 'await', 'break', 'class', 'continue', 'def', 'del', 'elif', 'else', 'except', 'finally', 'for', 'from', 'global', 'if', 'import', 'in', 'is', 'lambda', 'nonlocal', 'not', 'or', 'pass', 'raise', 'return', 'try', 'while', 'with', 'yield']\n"
          ]
        }
      ]
    },
    {
      "cell_type": "code",
      "metadata": {
        "colab": {
          "base_uri": "https://localhost:8080/"
        },
        "id": "aSw4RKOqp4ru",
        "outputId": "d1e0b77a-eb4f-4adf-a512-a72310c691e0"
      },
      "source": [
        "# VOID FUNCTION ALWAYS RETURNS NONE\n",
        "def void_function():\n",
        "  a = 1\n",
        "  b = 2\n",
        "  c = a + b\n",
        "\n",
        "x = void_function()\n",
        "print(x)"
      ],
      "execution_count": null,
      "outputs": [
        {
          "output_type": "stream",
          "name": "stdout",
          "text": [
            "None\n"
          ]
        }
      ]
    },
    {
      "cell_type": "code",
      "metadata": {
        "colab": {
          "base_uri": "https://localhost:8080/",
          "height": 202
        },
        "id": "lK1cKUiBsBGP",
        "outputId": "1b11e306-6b7d-4e57-9769-0f2971bbf394"
      },
      "source": [
        "# ASSERTION ERROR\n",
        "#  syntax : assert condition , message\n",
        "a = 24\n",
        "assert a > 25 , \"The Input is very low\"\n"
      ],
      "execution_count": null,
      "outputs": [
        {
          "output_type": "error",
          "ename": "AssertionError",
          "evalue": "ignored",
          "traceback": [
            "\u001b[0;31m---------------------------------------------------------------------------\u001b[0m",
            "\u001b[0;31mAssertionError\u001b[0m                            Traceback (most recent call last)",
            "\u001b[0;32m<ipython-input-4-afb099738bdf>\u001b[0m in \u001b[0;36m<module>\u001b[0;34m()\u001b[0m\n\u001b[1;32m      2\u001b[0m \u001b[0;31m#  syntax : assert condition , message\u001b[0m\u001b[0;34m\u001b[0m\u001b[0;34m\u001b[0m\u001b[0;34m\u001b[0m\u001b[0m\n\u001b[1;32m      3\u001b[0m \u001b[0ma\u001b[0m \u001b[0;34m=\u001b[0m \u001b[0;36m24\u001b[0m\u001b[0;34m\u001b[0m\u001b[0;34m\u001b[0m\u001b[0m\n\u001b[0;32m----> 4\u001b[0;31m \u001b[0;32massert\u001b[0m \u001b[0ma\u001b[0m \u001b[0;34m>\u001b[0m \u001b[0;36m25\u001b[0m \u001b[0;34m,\u001b[0m \u001b[0;34m\"The Input is very low\"\u001b[0m\u001b[0;34m\u001b[0m\u001b[0;34m\u001b[0m\u001b[0m\n\u001b[0m",
            "\u001b[0;31mAssertionError\u001b[0m: The Input is very low"
          ]
        }
      ]
    },
    {
      "cell_type": "code",
      "metadata": {
        "colab": {
          "base_uri": "https://localhost:8080/",
          "height": 326
        },
        "id": "BAx06uGmuLVN",
        "outputId": "2792d577-56cd-4cd7-8b67-92c4feb863d2"
      },
      "source": [
        "#async , await - purpose is to wait for certain period of time and print the next part of result\n",
        "import asyncio\n",
        "\n",
        "async def main():\n",
        "    print('Hello')\n",
        "    await asyncio.sleep(1)\n",
        "    print('Ubasagan')\n",
        "    \n",
        "#o run the program, we use\n",
        "\n",
        "asyncio.run(main())"
      ],
      "execution_count": null,
      "outputs": [
        {
          "output_type": "error",
          "ename": "RuntimeError",
          "evalue": "ignored",
          "traceback": [
            "\u001b[0;31m---------------------------------------------------------------------------\u001b[0m",
            "\u001b[0;31mRuntimeError\u001b[0m                              Traceback (most recent call last)",
            "\u001b[0;32m<ipython-input-9-6a3cf2209223>\u001b[0m in \u001b[0;36m<module>\u001b[0;34m()\u001b[0m\n\u001b[1;32m      9\u001b[0m \u001b[0;31m#o run the program, we use\u001b[0m\u001b[0;34m\u001b[0m\u001b[0;34m\u001b[0m\u001b[0;34m\u001b[0m\u001b[0m\n\u001b[1;32m     10\u001b[0m \u001b[0;34m\u001b[0m\u001b[0m\n\u001b[0;32m---> 11\u001b[0;31m \u001b[0masyncio\u001b[0m\u001b[0;34m.\u001b[0m\u001b[0mrun\u001b[0m\u001b[0;34m(\u001b[0m\u001b[0mmain\u001b[0m\u001b[0;34m(\u001b[0m\u001b[0;34m)\u001b[0m\u001b[0;34m)\u001b[0m\u001b[0;34m\u001b[0m\u001b[0;34m\u001b[0m\u001b[0m\n\u001b[0m",
            "\u001b[0;32m/usr/lib/python3.7/asyncio/runners.py\u001b[0m in \u001b[0;36mrun\u001b[0;34m(main, debug)\u001b[0m\n\u001b[1;32m     32\u001b[0m     \u001b[0;32mif\u001b[0m \u001b[0mevents\u001b[0m\u001b[0;34m.\u001b[0m\u001b[0m_get_running_loop\u001b[0m\u001b[0;34m(\u001b[0m\u001b[0;34m)\u001b[0m \u001b[0;32mis\u001b[0m \u001b[0;32mnot\u001b[0m \u001b[0;32mNone\u001b[0m\u001b[0;34m:\u001b[0m\u001b[0;34m\u001b[0m\u001b[0;34m\u001b[0m\u001b[0m\n\u001b[1;32m     33\u001b[0m         raise RuntimeError(\n\u001b[0;32m---> 34\u001b[0;31m             \"asyncio.run() cannot be called from a running event loop\")\n\u001b[0m\u001b[1;32m     35\u001b[0m \u001b[0;34m\u001b[0m\u001b[0m\n\u001b[1;32m     36\u001b[0m     \u001b[0;32mif\u001b[0m \u001b[0;32mnot\u001b[0m \u001b[0mcoroutines\u001b[0m\u001b[0;34m.\u001b[0m\u001b[0miscoroutine\u001b[0m\u001b[0;34m(\u001b[0m\u001b[0mmain\u001b[0m\u001b[0;34m)\u001b[0m\u001b[0;34m:\u001b[0m\u001b[0;34m\u001b[0m\u001b[0;34m\u001b[0m\u001b[0m\n",
            "\u001b[0;31mRuntimeError\u001b[0m: asyncio.run() cannot be called from a running event loop"
          ]
        }
      ]
    },
    {
      "cell_type": "code",
      "metadata": {
        "colab": {
          "base_uri": "https://localhost:8080/"
        },
        "id": "FxKGhs6zvFgk",
        "outputId": "014c7b28-399c-4d1d-d3a5-24c96e538a97"
      },
      "source": [
        "# list comprehensions exzmples\n",
        "names = [\"Arun\", \"Bala\",\"chandru\", \"David\", \"Elango\", \"Felix\"]\n",
        "new_list = ['Hello '+ i for i in names]\n",
        "print(new_list)"
      ],
      "execution_count": null,
      "outputs": [
        {
          "output_type": "stream",
          "name": "stdout",
          "text": [
            "['Hello Arun', 'Hello Bala', 'Hello chandru', 'Hello David', 'Hello Elango', 'Hello Felix']\n"
          ]
        }
      ]
    },
    {
      "cell_type": "code",
      "metadata": {
        "id": "0JZO9imP01ic",
        "colab": {
          "base_uri": "https://localhost:8080/"
        },
        "outputId": "30409122-2e73-4f32-bf2d-216e4fcc18a1"
      },
      "source": [
        "#SET OBJECTS DOESN'T SUPPORT INDEXING & ELIMINATE DUPLICATES\n",
        "a = {1,2,2,3,3,3}\n",
        "print(a)\n"
      ],
      "execution_count": null,
      "outputs": [
        {
          "output_type": "stream",
          "name": "stdout",
          "text": [
            "{1, 2, 3}\n"
          ]
        }
      ]
    },
    {
      "cell_type": "code",
      "metadata": {
        "colab": {
          "base_uri": "https://localhost:8080/"
        },
        "id": "jkLr6y9LCh4z",
        "outputId": "ac424fc7-15b3-48f3-fbd1-32983953223d"
      },
      "source": [
        "list('hello')\n"
      ],
      "execution_count": null,
      "outputs": [
        {
          "output_type": "execute_result",
          "data": {
            "text/plain": [
              "['h', 'e', 'l', 'l', 'o']"
            ]
          },
          "metadata": {},
          "execution_count": 6
        }
      ]
    },
    {
      "cell_type": "code",
      "metadata": {
        "colab": {
          "base_uri": "https://localhost:8080/",
          "height": 238
        },
        "id": "fJQicW1ZJO9b",
        "outputId": "c0542e9e-0ef9-4540-a499-1b96221f4526"
      },
      "source": [
        "#adding int & str with implict function : results - TYPE ERROR IS DISPLAYED\n",
        "num_int = 123\n",
        "num_str = \"456\"\n",
        "\n",
        "print(\"Data type of num_int:\",type(num_int))\n",
        "print(\"Data type of num_str:\",type(num_str))\n",
        "\n",
        "print(num_int+num_str)"
      ],
      "execution_count": null,
      "outputs": [
        {
          "output_type": "stream",
          "name": "stdout",
          "text": [
            "Data type of num_int: <class 'int'>\n",
            "Data type of num_str: <class 'str'>\n"
          ]
        },
        {
          "output_type": "error",
          "ename": "TypeError",
          "evalue": "ignored",
          "traceback": [
            "\u001b[0;31m---------------------------------------------------------------------------\u001b[0m",
            "\u001b[0;31mTypeError\u001b[0m                                 Traceback (most recent call last)",
            "\u001b[0;32m<ipython-input-7-2da3241d9a59>\u001b[0m in \u001b[0;36m<module>\u001b[0;34m()\u001b[0m\n\u001b[1;32m      6\u001b[0m \u001b[0mprint\u001b[0m\u001b[0;34m(\u001b[0m\u001b[0;34m\"Data type of num_str:\"\u001b[0m\u001b[0;34m,\u001b[0m\u001b[0mtype\u001b[0m\u001b[0;34m(\u001b[0m\u001b[0mnum_str\u001b[0m\u001b[0;34m)\u001b[0m\u001b[0;34m)\u001b[0m\u001b[0;34m\u001b[0m\u001b[0;34m\u001b[0m\u001b[0m\n\u001b[1;32m      7\u001b[0m \u001b[0;34m\u001b[0m\u001b[0m\n\u001b[0;32m----> 8\u001b[0;31m \u001b[0mprint\u001b[0m\u001b[0;34m(\u001b[0m\u001b[0mnum_int\u001b[0m\u001b[0;34m+\u001b[0m\u001b[0mnum_str\u001b[0m\u001b[0;34m)\u001b[0m\u001b[0;34m\u001b[0m\u001b[0;34m\u001b[0m\u001b[0m\n\u001b[0m",
            "\u001b[0;31mTypeError\u001b[0m: unsupported operand type(s) for +: 'int' and 'str'"
          ]
        }
      ]
    },
    {
      "cell_type": "code",
      "metadata": {
        "colab": {
          "base_uri": "https://localhost:8080/"
        },
        "id": "k7-SYH82VF5H",
        "outputId": "2c987cc4-b0c5-4b10-a9bf-f92e26205fa3"
      },
      "source": [
        "#Example 3: Addition of string and integer using explicit conversion\n",
        "num_int = 123\n",
        "num_str = \"456\"\n",
        "\n",
        "print(\"Data type of num_int:\",type(num_int))\n",
        "print(\"Data type of num_str before Type Casting:\",type(num_str))\n",
        "\n",
        "num_str = int(num_str)                                                       # COVERTING THE DATA TYPE TO THE REQUIRED FORMAT\n",
        "print(\"Data type of num_str after Type Casting:\",type(num_str))\n",
        "\n",
        "num_sum = num_int + num_str\n",
        "\n",
        "print(\"Sum of num_int and num_str:\",num_sum)\n",
        "print(\"Data type of the sum:\",type(num_sum))"
      ],
      "execution_count": null,
      "outputs": [
        {
          "output_type": "stream",
          "name": "stdout",
          "text": [
            "Data type of num_int: <class 'int'>\n",
            "Data type of num_str before Type Casting: <class 'str'>\n",
            "Data type of num_str after Type Casting: <class 'int'>\n",
            "Sum of num_int and num_str: 579\n",
            "Data type of the sum: <class 'int'>\n"
          ]
        }
      ]
    },
    {
      "cell_type": "code",
      "metadata": {
        "colab": {
          "base_uri": "https://localhost:8080/"
        },
        "id": "nbD_L5NbXqUI",
        "outputId": "26aac469-d276-4ae4-9123-439becfc7888"
      },
      "source": [
        "#Special  Identity operators \n",
        "x1 = 5\n",
        "y1 = 5\n",
        "x2 = 'Hello'\n",
        "y2 = 'Hello'\n",
        "x3 = [1,2,3]\n",
        "y3 = [1,2,3]\n",
        "\n",
        "# Output: False\n",
        "print(x1 is not y1)\n",
        "\n",
        "# Output: True\n",
        "print(x2 is y2)\n",
        "\n",
        "# Output: False\n",
        "print(x3 is y3)"
      ],
      "execution_count": null,
      "outputs": [
        {
          "output_type": "stream",
          "name": "stdout",
          "text": [
            "False\n",
            "True\n",
            "False\n"
          ]
        }
      ]
    },
    {
      "cell_type": "code",
      "metadata": {
        "id": "K5YFsaG_rN39",
        "colab": {
          "base_uri": "https://localhost:8080/"
        },
        "outputId": "295dd4d1-89e2-4471-b6be-d0e1794dd5b9"
      },
      "source": [
        "# Simple Concatenate of two strings \n",
        "str1 = \"Hi \"\n",
        "str2 = \"Welcome to Python\"\n",
        "print(str1 + str2)"
      ],
      "execution_count": null,
      "outputs": [
        {
          "output_type": "stream",
          "name": "stdout",
          "text": [
            "Hi Welcome to Python\n"
          ]
        }
      ]
    },
    {
      "cell_type": "code",
      "metadata": {
        "colab": {
          "base_uri": "https://localhost:8080/"
        },
        "id": "bFLjOgoWd0l8",
        "outputId": "c57c7719-2ff9-443f-a57f-ff42e94299ba"
      },
      "source": [
        "fees = 4335\n",
        "result = (10/ 100) *fees\n",
        "Discount = fees - result\n",
        "print(result)\n",
        "print(\"The fees to be paid after discount is : \", Discount)\n"
      ],
      "execution_count": null,
      "outputs": [
        {
          "output_type": "stream",
          "name": "stdout",
          "text": [
            "433.5\n",
            "The fees to be paid after discount is :  3901.5\n"
          ]
        }
      ]
    },
    {
      "cell_type": "code",
      "metadata": {
        "id": "nCk5oA7DfjPr",
        "colab": {
          "base_uri": "https://localhost:8080/"
        },
        "outputId": "7a24f87d-8f65-4e03-c3a5-dc62f965fd08"
      },
      "source": [
        "# LIST COMPREHENSIONS PERFORMANCE ON VARIOUS DATA TYPES\n",
        "my_list = [\"abc\",24,2.2,6,2,8,5.5,\"ubasagan k \"]                       #mixed datatypes\n",
        "new_list = [s**2 for s in my_list if isinstance(s, (int))]\n",
        "print(new_list)\n",
        "                                                "
      ],
      "execution_count": null,
      "outputs": [
        {
          "output_type": "stream",
          "name": "stdout",
          "text": [
            "[576, 36, 4, 64]\n"
          ]
        }
      ]
    },
    {
      "cell_type": "code",
      "metadata": {
        "id": "ZPqht5KRg2hW",
        "colab": {
          "base_uri": "https://localhost:8080/"
        },
        "outputId": "ba0d893b-34ed-49c2-e867-fd37e7ab99fb"
      },
      "source": [
        "a =1+3j\n",
        "print(\"Is the number is complex\", isinstance(a,(complex)))"
      ],
      "execution_count": null,
      "outputs": [
        {
          "output_type": "stream",
          "name": "stdout",
          "text": [
            "Is the number is complex True\n"
          ]
        }
      ]
    },
    {
      "cell_type": "code",
      "metadata": {
        "colab": {
          "base_uri": "https://localhost:8080/"
        },
        "id": "3faNuS-TzZk-",
        "outputId": "bd0be2cf-819a-4218-ee1d-4ed159312296"
      },
      "source": [
        "numbers = [6,5,3,8,4,2,5,4,11] # SQUARE OF NUMBER IN A LIST WITH LIST COMPREHENSIONS\n",
        "result = [x**2 for x in numbers] \n",
        "print(result)"
      ],
      "execution_count": null,
      "outputs": [
        {
          "output_type": "stream",
          "name": "stdout",
          "text": [
            "[36, 25, 9, 64, 16, 4, 25, 16, 121]\n"
          ]
        }
      ]
    },
    {
      "cell_type": "code",
      "metadata": {
        "colab": {
          "base_uri": "https://localhost:8080/"
        },
        "id": "1RGaAqfb4A1m",
        "outputId": "f3ef0ccf-8eb0-4cf3-9cc0-b6a7f135dd33"
      },
      "source": [
        "# Program to find the sum of all numbers stored in a list\n",
        "\n",
        "# List of numbers\n",
        "numbers = [6, 5, 3, 8, 4, 2, 5, 4, 11]\n",
        "\n",
        "# variable to store the sum\n",
        "sum = 0\n",
        "\n",
        "# iterate over the list\n",
        "for val in numbers:\n",
        "    sum = sum+val\n",
        "\n",
        "print(\"The sum is\", sum)\n"
      ],
      "execution_count": null,
      "outputs": [
        {
          "output_type": "stream",
          "name": "stdout",
          "text": [
            "The sum is 48\n"
          ]
        }
      ]
    },
    {
      "cell_type": "code",
      "metadata": {
        "colab": {
          "base_uri": "https://localhost:8080/",
          "height": 371
        },
        "id": "8DhRKDqSCCnb",
        "outputId": "7ef18913-52e0-47e9-8bce-ab193414f25f"
      },
      "source": [
        "# Program to find the sum of all numbers stored in a list\n",
        "\n",
        "# List of numbers\n",
        "my_list= [6, 5, 3, 8, 4, 2, 5, 4, 11]\n",
        "\n",
        "# variable to store the results\n",
        "Total = 0\n",
        "new_list= [total + val for val in [6, 5, 3, 8, 4, 2, 5, 4, 11]]\n",
        "\n",
        "print(new_list)\n"
      ],
      "execution_count": null,
      "outputs": [
        {
          "output_type": "error",
          "ename": "NameError",
          "evalue": "ignored",
          "traceback": [
            "\u001b[0;31m---------------------------------------------------------------------------\u001b[0m",
            "\u001b[0;31mNameError\u001b[0m                                 Traceback (most recent call last)",
            "\u001b[0;32m<ipython-input-9-d4d3fdd9e469>\u001b[0m in \u001b[0;36m<module>\u001b[0;34m()\u001b[0m\n\u001b[1;32m      6\u001b[0m \u001b[0;31m# variable to store the results\u001b[0m\u001b[0;34m\u001b[0m\u001b[0;34m\u001b[0m\u001b[0;34m\u001b[0m\u001b[0m\n\u001b[1;32m      7\u001b[0m \u001b[0mTotal\u001b[0m \u001b[0;34m=\u001b[0m \u001b[0;36m0\u001b[0m\u001b[0;34m\u001b[0m\u001b[0;34m\u001b[0m\u001b[0m\n\u001b[0;32m----> 8\u001b[0;31m \u001b[0mnew_list\u001b[0m\u001b[0;34m=\u001b[0m \u001b[0;34m[\u001b[0m\u001b[0mtotal\u001b[0m \u001b[0;34m+\u001b[0m \u001b[0mval\u001b[0m \u001b[0;32mfor\u001b[0m \u001b[0mval\u001b[0m \u001b[0;32min\u001b[0m \u001b[0;34m[\u001b[0m\u001b[0;36m6\u001b[0m\u001b[0;34m,\u001b[0m \u001b[0;36m5\u001b[0m\u001b[0;34m,\u001b[0m \u001b[0;36m3\u001b[0m\u001b[0;34m,\u001b[0m \u001b[0;36m8\u001b[0m\u001b[0;34m,\u001b[0m \u001b[0;36m4\u001b[0m\u001b[0;34m,\u001b[0m \u001b[0;36m2\u001b[0m\u001b[0;34m,\u001b[0m \u001b[0;36m5\u001b[0m\u001b[0;34m,\u001b[0m \u001b[0;36m4\u001b[0m\u001b[0;34m,\u001b[0m \u001b[0;36m11\u001b[0m\u001b[0;34m]\u001b[0m\u001b[0;34m]\u001b[0m\u001b[0;34m\u001b[0m\u001b[0;34m\u001b[0m\u001b[0m\n\u001b[0m\u001b[1;32m      9\u001b[0m \u001b[0;34m\u001b[0m\u001b[0m\n\u001b[1;32m     10\u001b[0m \u001b[0mprint\u001b[0m\u001b[0;34m(\u001b[0m\u001b[0mnew_list\u001b[0m\u001b[0;34m)\u001b[0m\u001b[0;34m\u001b[0m\u001b[0;34m\u001b[0m\u001b[0m\n",
            "\u001b[0;32m<ipython-input-9-d4d3fdd9e469>\u001b[0m in \u001b[0;36m<listcomp>\u001b[0;34m(.0)\u001b[0m\n\u001b[1;32m      6\u001b[0m \u001b[0;31m# variable to store the results\u001b[0m\u001b[0;34m\u001b[0m\u001b[0;34m\u001b[0m\u001b[0;34m\u001b[0m\u001b[0m\n\u001b[1;32m      7\u001b[0m \u001b[0mTotal\u001b[0m \u001b[0;34m=\u001b[0m \u001b[0;36m0\u001b[0m\u001b[0;34m\u001b[0m\u001b[0;34m\u001b[0m\u001b[0m\n\u001b[0;32m----> 8\u001b[0;31m \u001b[0mnew_list\u001b[0m\u001b[0;34m=\u001b[0m \u001b[0;34m[\u001b[0m\u001b[0mtotal\u001b[0m \u001b[0;34m+\u001b[0m \u001b[0mval\u001b[0m \u001b[0;32mfor\u001b[0m \u001b[0mval\u001b[0m \u001b[0;32min\u001b[0m \u001b[0;34m[\u001b[0m\u001b[0;36m6\u001b[0m\u001b[0;34m,\u001b[0m \u001b[0;36m5\u001b[0m\u001b[0;34m,\u001b[0m \u001b[0;36m3\u001b[0m\u001b[0;34m,\u001b[0m \u001b[0;36m8\u001b[0m\u001b[0;34m,\u001b[0m \u001b[0;36m4\u001b[0m\u001b[0;34m,\u001b[0m \u001b[0;36m2\u001b[0m\u001b[0;34m,\u001b[0m \u001b[0;36m5\u001b[0m\u001b[0;34m,\u001b[0m \u001b[0;36m4\u001b[0m\u001b[0;34m,\u001b[0m \u001b[0;36m11\u001b[0m\u001b[0;34m]\u001b[0m\u001b[0;34m]\u001b[0m\u001b[0;34m\u001b[0m\u001b[0;34m\u001b[0m\u001b[0m\n\u001b[0m\u001b[1;32m      9\u001b[0m \u001b[0;34m\u001b[0m\u001b[0m\n\u001b[1;32m     10\u001b[0m \u001b[0mprint\u001b[0m\u001b[0;34m(\u001b[0m\u001b[0mnew_list\u001b[0m\u001b[0;34m)\u001b[0m\u001b[0;34m\u001b[0m\u001b[0;34m\u001b[0m\u001b[0m\n",
            "\u001b[0;31mNameError\u001b[0m: name 'total' is not defined"
          ]
        }
      ]
    },
    {
      "cell_type": "code",
      "metadata": {
        "colab": {
          "base_uri": "https://localhost:8080/"
        },
        "id": "rhAdX_QH5JDE",
        "outputId": "82788918-e5f2-4269-afcc-08e9b4bf6c64"
      },
      "source": [
        "# DISPLAY THE STUDENT'S MARKS FROM RECORD \n",
        "marks = {'Sarath': 90, 'Jules': 55, 'Arthur': 77}\n",
        "student_name = 'Sarath'\n",
        "for student in marks:\n",
        "  if student == student_name:\n",
        "    print(\"The mark secured is \",marks[student])\n",
        "    break\n",
        "  else:\n",
        "    print(\"The Student name is not found\")\n"
      ],
      "execution_count": null,
      "outputs": [
        {
          "output_type": "stream",
          "name": "stdout",
          "text": [
            "The mark secured is  90\n"
          ]
        }
      ]
    },
    {
      "cell_type": "code",
      "metadata": {
        "colab": {
          "base_uri": "https://localhost:8080/"
        },
        "id": "LBJP3AgU9wac",
        "outputId": "2fb51bd3-4596-4602-aa32-4314d3088541"
      },
      "source": [
        "# Program to add natural numbers\n",
        "  # GET THE INPUT FROM THE USER\n",
        "n = int(input(\"Enter the value of N :\"))\n",
        "\n",
        "# INITIALIZE THE STORING VARIABLE\n",
        "sum = 0\n",
        "i = 1  #  COUNTER\n",
        "\n",
        "while i <= n:\n",
        "  sum += i\n",
        "  i += 1\n",
        "\n",
        "print(\"The sum of Natural numbers is \",sum)\n",
        "\n"
      ],
      "execution_count": null,
      "outputs": [
        {
          "output_type": "stream",
          "name": "stdout",
          "text": [
            "Enter the value of N :25\n",
            "The sum of Natural numbers is  325\n"
          ]
        }
      ]
    },
    {
      "cell_type": "code",
      "metadata": {
        "colab": {
          "base_uri": "https://localhost:8080/"
        },
        "id": "9OegVDbG_TH9",
        "outputId": "d2026ce9-dfdd-465d-d7ff-ca152536d8e8"
      },
      "source": [
        "'''Example to illustrate\n",
        "the use of else statement\n",
        "with the while loop'''\n",
        "\n",
        "counter = 1\n",
        "\n",
        "while counter <= 3:\n",
        "    print(\"Inside loop\")\n",
        "    counter = counter + 1\n",
        "    break\n",
        "else:\n",
        "    print(\"OUTSIDE LOOP\")"
      ],
      "execution_count": null,
      "outputs": [
        {
          "output_type": "stream",
          "name": "stdout",
          "text": [
            "Inside loop\n"
          ]
        }
      ]
    },
    {
      "cell_type": "code",
      "metadata": {
        "colab": {
          "base_uri": "https://localhost:8080/"
        },
        "id": "5wy77nKVBfCT",
        "outputId": "911ec1b2-a167-458e-cad3-e682cade88e4"
      },
      "source": [
        "# Use of break statement inside the loop\n",
        "\n",
        "for val in \"Ubasagan\":\n",
        "    if val == \"g\":\n",
        "        break\n",
        "    print(val)\n",
        "print(\"The end\")"
      ],
      "execution_count": null,
      "outputs": [
        {
          "output_type": "stream",
          "name": "stdout",
          "text": [
            "U\n",
            "b\n",
            "a\n",
            "s\n",
            "a\n",
            "The end\n"
          ]
        }
      ]
    },
    {
      "cell_type": "code",
      "metadata": {
        "id": "UJRddkgdDDdC"
      },
      "source": [
        "# Program to show the use of continue statement inside loops\n",
        "\n",
        "for val in \"string\":\n",
        "    if val == \"i\":\n",
        "        continue\n",
        "    print(val)\n",
        "\n",
        "print(\"The end\")"
      ],
      "execution_count": null,
      "outputs": []
    },
    {
      "cell_type": "code",
      "metadata": {
        "colab": {
          "base_uri": "https://localhost:8080/"
        },
        "id": "GxwyvEP9Da_y",
        "outputId": "8bba3e5e-9c0c-4182-98d1-5b3397e2dbcc"
      },
      "source": [
        "# Program to show the use of continue statement inside loops\n",
        "for char in \"Ubasagan Kandhaswamy\" :\n",
        "  if char == \"k\":\n",
        "    continue\n",
        "  \n",
        "  print(char)\n"
      ],
      "execution_count": null,
      "outputs": [
        {
          "output_type": "stream",
          "name": "stdout",
          "text": [
            "U\n",
            "b\n",
            "a\n",
            "s\n",
            "a\n",
            "g\n",
            "a\n",
            "n\n",
            " \n",
            "K\n",
            "a\n",
            "n\n",
            "d\n",
            "h\n",
            "a\n",
            "s\n",
            "w\n",
            "a\n",
            "m\n",
            "y\n"
          ]
        }
      ]
    },
    {
      "cell_type": "code",
      "metadata": {
        "id": "_Gh-bXnHD8uq",
        "colab": {
          "base_uri": "https://localhost:8080/"
        },
        "outputId": "83f68a0c-f6a2-4a8d-9fc8-84357ba56d40"
      },
      "source": [
        "# FUNCTIONS IN PYTHON\n",
        "# PASSING ARGUMENTS\n",
        "def greet(name):\n",
        "  print(\"HEllo\", name)\n",
        "  print(\"How are you?\", name)\n",
        "\n",
        "\n",
        "greet(\"Jack Sparrow\")\n"
      ],
      "execution_count": null,
      "outputs": [
        {
          "output_type": "stream",
          "name": "stdout",
          "text": [
            "HEllo Jack Sparrow\n",
            "How are you? Jack Sparrow\n"
          ]
        }
      ]
    },
    {
      "cell_type": "code",
      "metadata": {
        "colab": {
          "base_uri": "https://localhost:8080/"
        },
        "id": "RRTjOIt6vHhy",
        "outputId": "2a4b75bd-532c-460b-bec1-638bfe7ae681"
      },
      "source": [
        "#PASSING MULTIPLE ARGUMENTS to the FUNCTION\n",
        "def add_number(x,y):\n",
        "  result = x + y\n",
        "  print(\"The Sum is \", result)\n",
        "\n",
        "number1 = 21\n",
        "number2 = 3\n",
        "add_number(number1 , number2)\n"
      ],
      "execution_count": null,
      "outputs": [
        {
          "output_type": "stream",
          "name": "stdout",
          "text": [
            "The Sum is  24\n"
          ]
        }
      ]
    },
    {
      "cell_type": "code",
      "metadata": {
        "colab": {
          "base_uri": "https://localhost:8080/"
        },
        "id": "aZzsSjLFwB3m",
        "outputId": "04cdb858-f96e-4bee-d3bb-d48b01a7e486"
      },
      "source": [
        "#retrun a value from a statemnet\n",
        "def add_number(x,y):\n",
        "  result = x + y\n",
        "  return result\n",
        "  \n",
        "\n",
        "number1 = 21\n",
        "number2 = 3\n",
        "result = add_number(number1 , number2)\n",
        "print(\"The sum is:\", result)"
      ],
      "execution_count": null,
      "outputs": [
        {
          "output_type": "stream",
          "name": "stdout",
          "text": [
            "The sum is: 24\n"
          ]
        }
      ]
    },
    {
      "cell_type": "code",
      "metadata": {
        "colab": {
          "base_uri": "https://localhost:8080/"
        },
        "id": "Cl1tlVZpyenQ",
        "outputId": "89442151-b87a-48f4-9516-d99fb6c01317"
      },
      "source": [
        "marks = [55,64,75,80,34]\n",
        "length = len(marks)\n",
        "print(\"Length is \",length)\n",
        "marks_sum = sum(marks)\n",
        "print(\"The Total marks you have got is \", marks_sum)\n"
      ],
      "execution_count": null,
      "outputs": [
        {
          "output_type": "stream",
          "name": "stdout",
          "text": [
            "Length is  5\n",
            "The Total marks you have got is  308\n"
          ]
        }
      ]
    },
    {
      "cell_type": "code",
      "metadata": {
        "colab": {
          "base_uri": "https://localhost:8080/"
        },
        "id": "MlVAOqRBy6aG",
        "outputId": "4b437aa6-befe-41f7-93fd-f5788304d741"
      },
      "source": [
        "#FUNCTION TO AVG MARKS\n",
        "def find_average_marks(marks):\n",
        "  sum_of_marks = sum(marks)\n",
        "  total_subject =len(marks)\n",
        "  average_marks = sum_of_marks / total_subject\n",
        "  return average_marks\n",
        "\n",
        "# CALCULATE THE GRADE AND RETURN\n",
        "def compute_grade_average(average_marks):\n",
        "  if average_marks >= 80:\n",
        "    grade = 'A+'\n",
        "  elif average_marks >= 60:\n",
        "    grade = 'B'\n",
        "  elif average_marks >= 50:\n",
        "    grade = 'C'\n",
        "  else:\n",
        "    grade = 'F'\n",
        "  return grade\n",
        "\n",
        "marks = [98,65,75,85,80,86]\n",
        "average_marks = find_average_marks(marks)\n",
        "print(\"The average marks is : \", average_marks)\n",
        "grade = compute_grade_average(average_marks) # VARIABLE = FUNCTION CALL \n",
        "print(\"The Grade obtained is : \", grade)\n",
        "\n"
      ],
      "execution_count": null,
      "outputs": [
        {
          "output_type": "stream",
          "name": "stdout",
          "text": [
            "The average marks is :  81.5\n",
            "The Grade obtained is :  A+\n"
          ]
        }
      ]
    },
    {
      "cell_type": "code",
      "metadata": {
        "id": "4qQEBXRG4Y9n",
        "colab": {
          "base_uri": "https://localhost:8080/"
        },
        "outputId": "c525ccd4-1166-4c8d-d7fd-5f01df54fbe2"
      },
      "source": [
        "#creating a function for adding & multiplying the numbers\n",
        "def add(x,y):\n",
        "  result = x + y\n",
        "  return result\n",
        "\n",
        "def multiply(a,b):\n",
        "  product = a*b\n",
        "  return product\n",
        "\n",
        " # ASSINinG VALUES \n",
        "number0 = 24\n",
        "number3 = 6\n",
        "#FUNCTION CALL \n",
        "result = add(number0,number3)\n",
        "print(\"The sum is : \", result) \n",
        "product = multiply(number0,number3)\n",
        "print(\"The Value of the Product is : \",product)  "
      ],
      "execution_count": null,
      "outputs": [
        {
          "output_type": "stream",
          "name": "stdout",
          "text": [
            "The sum is :  30\n",
            "The Value of the Product is :  144\n"
          ]
        }
      ]
    },
    {
      "cell_type": "code",
      "metadata": {
        "id": "wL2xmISyrjNa"
      },
      "source": [
        "#ARGUMENTS - postional arguments(arguments assigned based on thier position)\n",
        "#DEFAULT ARGUMENTS - ASSISGNING DEFAULT VALUES \n",
        "#KEYWORD ARGUMENTS - PASSING ARGUMENTS BY NAME "
      ],
      "execution_count": null,
      "outputs": []
    },
    {
      "cell_type": "code",
      "metadata": {
        "colab": {
          "base_uri": "https://localhost:8080/"
        },
        "id": "sHlkYZT3tuof",
        "outputId": "9b6c785f-8867-488d-e023-21c658b15a56"
      },
      "source": [
        "#PYTHON LOCAL & GLOBAL VARIABLES\n",
        "\n",
        "#GLOBAL VARIABLES\n",
        "message = \"How you doing?\"\n",
        "\n",
        "def greet():\n",
        "  message = \"How are you?\"\n",
        "  print(\"Message inside function:\", message)\n",
        "\n",
        "greet()\n",
        "print(\"Message outside function:\", message)\n",
        " "
      ],
      "execution_count": null,
      "outputs": [
        {
          "output_type": "stream",
          "name": "stdout",
          "text": [
            "Message inside function: How are you?\n",
            "Message outside function: How you doing?\n"
          ]
        }
      ]
    },
    {
      "cell_type": "code",
      "metadata": {
        "colab": {
          "base_uri": "https://localhost:8080/"
        },
        "id": "dsBCMejtvtiO",
        "outputId": "dd0f6a18-f1ca-4894-d10d-c5010d55314d"
      },
      "source": [
        "#PYTHON LOCAL & GLOBAL VARIABLES\n",
        "\n",
        "#GLOBAL VARIABLES - to print the Global message inside the fuction\n",
        "message = \"How you doing?\"\n",
        "\n",
        "def greet():\n",
        "  global message                     # GLOBAL KEYWORD\n",
        "  message = \"How are you?\"\n",
        "  print(\"Message inside function:\", message)\n",
        "\n",
        "greet()\n",
        "print(\"Message outside function:\", message)\n",
        " "
      ],
      "execution_count": null,
      "outputs": [
        {
          "output_type": "stream",
          "name": "stdout",
          "text": [
            "Message inside function: How are you?\n",
            "Message outside function: How are you?\n"
          ]
        }
      ]
    },
    {
      "cell_type": "code",
      "metadata": {
        "colab": {
          "base_uri": "https://localhost:8080/"
        },
        "id": "PnjSyfz9wPj_",
        "outputId": "a5d87ed5-ebca-42ba-99d4-215ec109dd4d"
      },
      "source": [
        "#LIST & TUPLES -  Basic + INTERMEDIATE OPERATIONS\n",
        "#accessing the list :\n",
        "languages = [\"Python\", \"Java\", \"c++\", \"Julia\"]\n",
        "languages.append(\"Rust\")\n",
        "languages.insert(1,\"C\")\n",
        "languages.remove(\"c++\")\n",
        "print(languages)\n",
        "print(languages[-1])"
      ],
      "execution_count": null,
      "outputs": [
        {
          "output_type": "stream",
          "name": "stdout",
          "text": [
            "['Python', 'C', 'Java', 'Julia', 'Rust']\n",
            "Rust\n"
          ]
        }
      ]
    },
    {
      "cell_type": "code",
      "metadata": {
        "id": "Y_FXijJQxths"
      },
      "source": [
        "#tupes - IMMUTABLE\n",
        "numbers = (21,5,-9,)"
      ],
      "execution_count": null,
      "outputs": []
    },
    {
      "cell_type": "code",
      "metadata": {
        "colab": {
          "base_uri": "https://localhost:8080/"
        },
        "id": "kFf9ZL3xUMh1",
        "outputId": "c864324f-6340-4f5a-d33d-f1f109628e5c"
      },
      "source": [
        "person1 = {\"name\": \"Arun\", \"age\":21}\n",
        "person1[\"Hobby\"]= [\"Fishing\", \"Dancing\"]\n",
        "print(person1)"
      ],
      "execution_count": null,
      "outputs": [
        {
          "output_type": "stream",
          "name": "stdout",
          "text": [
            "{'name': 'Arun', 'age': 21, 'Hobby': ['Fishing', 'Dancing']}\n"
          ]
        }
      ]
    },
    {
      "cell_type": "code",
      "metadata": {
        "colab": {
          "base_uri": "https://localhost:8080/"
        },
        "id": "hVJWJsQVVmUT",
        "outputId": "9eb46039-9ead-4460-e81a-b37e857e4660"
      },
      "source": [
        "synonyms = {\"Mountain\":\"Peak\", \"Forest\":\"Jungle\"}\n",
        "print(\"2.\",synonyms[\"Mountain\"])"
      ],
      "execution_count": null,
      "outputs": [
        {
          "output_type": "stream",
          "name": "stdout",
          "text": [
            "2. Peak\n"
          ]
        }
      ]
    },
    {
      "cell_type": "code",
      "metadata": {
        "colab": {
          "base_uri": "https://localhost:8080/"
        },
        "id": "dywy612jaZ5m",
        "outputId": "10564faf-a105-45e4-b73c-0df1e27d51ad"
      },
      "source": [
        "#SETS\n",
        "animals = set([\"dog\", \"cat\",\"Tiger\", \"lion\",\"cat\",\"dog\"])\n",
        "print(animals)"
      ],
      "execution_count": null,
      "outputs": [
        {
          "output_type": "stream",
          "name": "stdout",
          "text": [
            "{'dog', 'Tiger', 'cat', 'lion'}\n"
          ]
        }
      ]
    },
    {
      "cell_type": "code",
      "metadata": {
        "colab": {
          "base_uri": "https://localhost:8080/"
        },
        "id": "81ZzmsaVbM5Y",
        "outputId": "2ed8565d-6035-4345-dfee-6055ffc5ca06"
      },
      "source": [
        "wild_animals = [\"tiger\",\"lion\",\"elephant\"]\n",
        "animals.update(wild_animals,{\"Dolphins\"})\n",
        "print(animals)"
      ],
      "execution_count": null,
      "outputs": [
        {
          "output_type": "stream",
          "name": "stdout",
          "text": [
            "{'Dolphins', 'Tiger', 'elephant', 'dog', 'tiger', 'cat', 'lion'}\n"
          ]
        }
      ]
    },
    {
      "cell_type": "code",
      "metadata": {
        "colab": {
          "base_uri": "https://localhost:8080/"
        },
        "id": "LFyJ-vX0b3xe",
        "outputId": "52ffd29e-2b4f-477b-eee5-e1bddefc85ab"
      },
      "source": [
        "animals.remove(\"dog\")\n",
        "print(animals)"
      ],
      "execution_count": null,
      "outputs": [
        {
          "output_type": "stream",
          "name": "stdout",
          "text": [
            "{'Dolphins', 'Tiger', 'elephant', 'tiger', 'lion'}\n"
          ]
        }
      ]
    },
    {
      "cell_type": "code",
      "metadata": {
        "colab": {
          "base_uri": "https://localhost:8080/"
        },
        "id": "5945oAXWcT9w",
        "outputId": "7817c297-315e-4ee3-f2a1-bc423db9b070"
      },
      "source": [
        "#CHECK IF AN ITEM IS SET or not\n",
        "print(\"Lion\" in animals)"
      ],
      "execution_count": null,
      "outputs": [
        {
          "output_type": "stream",
          "name": "stdout",
          "text": [
            "False\n"
          ]
        }
      ]
    },
    {
      "cell_type": "code",
      "metadata": {
        "colab": {
          "base_uri": "https://localhost:8080/"
        },
        "id": "Fauj6LbEchnj",
        "outputId": "7a4e7e5b-b4bc-458a-bf6e-0bfe3145aefa"
      },
      "source": [
        "#PYTHON SETS OPERATIONS - union\n",
        "domestic_animals = {\"dog\", \"cat\", \"elephant\"}\n",
        "wild_animals = {\"lion\", \"tiger\", \"elephant\"}\n",
        "animals = wild_animals | (domestic_animals)\n",
        "\n",
        "print(animals)"
      ],
      "execution_count": null,
      "outputs": [
        {
          "output_type": "stream",
          "name": "stdout",
          "text": [
            "{'dog', 'tiger', 'cat', 'lion', 'elephant'}\n"
          ]
        }
      ]
    },
    {
      "cell_type": "code",
      "metadata": {
        "colab": {
          "base_uri": "https://localhost:8080/"
        },
        "id": "48quXnQGfC34",
        "outputId": "6a96fa3a-1af1-43c5-8290-88bb156c4266"
      },
      "source": [
        "#PYTHON SETS OPERATIONS - union\n",
        "domestic_animals = {\"dog\", \"cat\", \"elephant\"}\n",
        "wild_animals = {\"lion\", \"tiger\", \"elephant\"}\n",
        "animals = wild_animals.union(domestic_animals)\n",
        "\n",
        "print(animals)"
      ],
      "execution_count": null,
      "outputs": [
        {
          "output_type": "stream",
          "name": "stdout",
          "text": [
            "{'dog', 'tiger', 'cat', 'lion', 'elephant'}\n"
          ]
        }
      ]
    },
    {
      "cell_type": "code",
      "metadata": {
        "colab": {
          "base_uri": "https://localhost:8080/"
        },
        "id": "fWBtMvvyeFLR",
        "outputId": "f95a23d9-a38b-4e1b-c3db-dc133225866f"
      },
      "source": [
        "#PYTHON SETS OPERATIONS - INTERSECTION\n",
        "domestic_animals = {\"dog\", \"cat\", \"elephant\"}\n",
        "wild_animals = {\"lion\", \"tiger\", \"elephant\"}\n",
        "animals = wild_animals.intersection(domestic_animals)\n",
        "\n",
        "print(animals)"
      ],
      "execution_count": null,
      "outputs": [
        {
          "output_type": "stream",
          "name": "stdout",
          "text": [
            "{'elephant'}\n"
          ]
        }
      ]
    },
    {
      "cell_type": "code",
      "metadata": {
        "colab": {
          "base_uri": "https://localhost:8080/"
        },
        "id": "njwGnk1vfGrx",
        "outputId": "5451be76-dcf7-4719-9406-420d69a971d8"
      },
      "source": [
        "#PYTHON SETS OPERATIONS - INTERSECTION\n",
        "domestic_animals = {\"dog\", \"cat\", \"elephant\"}\n",
        "wild_animals = {\"lion\", \"tiger\", \"elephant\"}\n",
        "animals = wild_animals & (domestic_animals)\n",
        "\n",
        "print(animals)"
      ],
      "execution_count": null,
      "outputs": [
        {
          "output_type": "stream",
          "name": "stdout",
          "text": [
            "{'elephant'}\n"
          ]
        }
      ]
    },
    {
      "cell_type": "code",
      "metadata": {
        "colab": {
          "base_uri": "https://localhost:8080/"
        },
        "id": "PX0qcm2gfOXW",
        "outputId": "93b598e2-2bee-4321-945b-98f22915d677"
      },
      "source": [
        "#RANGE FUNCTIONS OF PYTHON (range van be used only for integer ,not for floating values)\n",
        "result = range(1,31,2)\n",
        "print(list(result))"
      ],
      "execution_count": null,
      "outputs": [
        {
          "output_type": "stream",
          "name": "stdout",
          "text": [
            "[1, 3, 5, 7, 9, 11, 13, 15, 17, 19, 21, 23, 25, 27, 29]\n"
          ]
        }
      ]
    },
    {
      "cell_type": "code",
      "metadata": {
        "colab": {
          "base_uri": "https://localhost:8080/"
        },
        "id": "GNwbrR_mgKwa",
        "outputId": "f97abb6f-606b-43d6-927a-42aebdbaa38f"
      },
      "source": [
        "#RANGE IN FOR LOOP \n",
        "for value in range(1,6):\n",
        "  print(value,\"Iteration\")\n"
      ],
      "execution_count": null,
      "outputs": [
        {
          "output_type": "stream",
          "name": "stdout",
          "text": [
            "1 Iteration\n",
            "2 Iteration\n",
            "3 Iteration\n",
            "4 Iteration\n",
            "5 Iteration\n"
          ]
        }
      ]
    },
    {
      "cell_type": "code",
      "metadata": {
        "colab": {
          "base_uri": "https://localhost:8080/"
        },
        "id": "ECpNTVT-hMia",
        "outputId": "557e8ad8-a616-4a86-98da-c768c5320f4b"
      },
      "source": [
        "result = range(3,33,3)\n",
        "print(list(result))"
      ],
      "execution_count": null,
      "outputs": [
        {
          "output_type": "stream",
          "name": "stdout",
          "text": [
            "[3, 6, 9, 12, 15, 18, 21, 24, 27, 30]\n"
          ]
        }
      ]
    },
    {
      "cell_type": "code",
      "metadata": {
        "colab": {
          "base_uri": "https://localhost:8080/"
        },
        "id": "d2pBabbOELZ1",
        "outputId": "14f1d1a7-72ef-4dc8-936d-2ee8f6aa3b28"
      },
      "source": [
        "# OOPS IN PYTHON \n",
        "class student:\n",
        "  def check_pass_fail(self):\n",
        "    if self.marks >= 40:\n",
        "      return True\n",
        "    else:\n",
        "      return False\n",
        "  def __init__(self, name , marks):\n",
        "    self.name = name \n",
        "    self.marks = marks\n",
        "\n",
        "\n",
        "student1 = student(\"Harry\", 80)\n",
        "student2 = student(\"Binny\", 25)\n",
        "did_pass = student1.check_pass_fail()\n",
        "print(did_pass)\n",
        "did_pass = student2.check_pass_fail()\n",
        "print(did_pass)\n",
        "print(student1.name)\n",
        "print(student1.marks)\n",
        "print(student2.name)\n",
        "print(student2.marks)\n"
      ],
      "execution_count": null,
      "outputs": [
        {
          "output_type": "stream",
          "name": "stdout",
          "text": [
            "True\n",
            "False\n",
            "Harry\n",
            "80\n",
            "Binny\n",
            "25\n"
          ]
        }
      ]
    },
    {
      "cell_type": "code",
      "metadata": {
        "colab": {
          "base_uri": "https://localhost:8080/"
        },
        "id": "SVRJxw6OdooV",
        "outputId": "fed9b516-2301-4d2d-eea1-02534bca968f"
      },
      "source": [
        "#OOPS IN PYTHON\n",
        "# CREATING A COMPLEX CLASS TO DEAL WITH REAL & IMAGINARY OBJECTS\n",
        "class complex:\n",
        "  def __init__(self, real ,imag):\n",
        "    self.real = real\n",
        "    self.imag = imag\n",
        "  \n",
        "  def add(self, number):\n",
        "    real = self.real + number.real\n",
        "    imag = self.imag + number.imag\n",
        "    result = complex(real,imag)\n",
        "    return result\n",
        "\n",
        "\n",
        "\n",
        "b1=complex(12,12)\n",
        "b2 =complex(-4,5)\n",
        "result = b1.add(b2)\n",
        "print(result.real, \"= Real\")\n",
        "print(result.imag, \"= IMAG\")\n"
      ],
      "execution_count": null,
      "outputs": [
        {
          "output_type": "stream",
          "name": "stdout",
          "text": [
            "8 = Real\n",
            "17 = IMAG\n"
          ]
        }
      ]
    },
    {
      "cell_type": "code",
      "metadata": {
        "id": "JoSpfh-1hhi5",
        "colab": {
          "base_uri": "https://localhost:8080/"
        },
        "outputId": "16ed5228-e725-459c-d8f0-10687eef12d4"
      },
      "source": [
        "# OOPS IN PYTHON (OBJECT ORIENTED PROGRAMMING)\n",
        "class Triangle:\n",
        "  def __init__(self,a,b,c):\n",
        "    self.a = a\n",
        "    self.b = b\n",
        "    self.c = c\n",
        "    \n",
        "  def get_perimeter(self):\n",
        "    perimeter = self.a + self.b + self.c      # MATHEMATICAL FUNCTION OF PERIMETER CALCULATION\n",
        "    return perimeter\n",
        "\n",
        "\n",
        "t1 = Triangle(300,450,500)\n",
        "perimeter = t1.get_perimeter()\n",
        "print(\"The perimeter of the Triangle is : \", perimeter)\n"
      ],
      "execution_count": null,
      "outputs": [
        {
          "output_type": "stream",
          "name": "stdout",
          "text": [
            "The perimeter of the Triangle is :  1250\n"
          ]
        }
      ]
    },
    {
      "cell_type": "code",
      "metadata": {
        "id": "tPuO7sP_hU0U",
        "colab": {
          "base_uri": "https://localhost:8080/"
        },
        "outputId": "44f43247-d40a-46b0-dbea-4844b95c1897"
      },
      "source": [
        "#EVERYTHING IN PYTHON OOPS \n",
        "# Everything in python is an object & we can check this using the type() function \n",
        "flag = True\n",
        "print(type(flag))\n",
        "\n",
        "def my_function():\n",
        "  pass\n",
        "print(type(my_function))\n",
        "\n",
        "# WE CAN LIST OUT ALL THE ATTRIBUTES & METHODS OF A GIVEN OBJECT BY USING THE  dir() function\n",
        "\n",
        "number_list = [1,2,3,4,5]\n",
        "print(dir(number_list))\n",
        "\n",
        "# ADDING ELEMENTS TO THE LIST \n",
        "#result = number_list.__add__([6,24])\n",
        "result = number_list + [6,24,7]\n",
        "print(result)"
      ],
      "execution_count": null,
      "outputs": [
        {
          "output_type": "stream",
          "name": "stdout",
          "text": [
            "<class 'bool'>\n",
            "<class 'function'>\n",
            "['__add__', '__class__', '__contains__', '__delattr__', '__delitem__', '__dir__', '__doc__', '__eq__', '__format__', '__ge__', '__getattribute__', '__getitem__', '__gt__', '__hash__', '__iadd__', '__imul__', '__init__', '__init_subclass__', '__iter__', '__le__', '__len__', '__lt__', '__mul__', '__ne__', '__new__', '__reduce__', '__reduce_ex__', '__repr__', '__reversed__', '__rmul__', '__setattr__', '__setitem__', '__sizeof__', '__str__', '__subclasshook__', 'append', 'clear', 'copy', 'count', 'extend', 'index', 'insert', 'pop', 'remove', 'reverse', 'sort']\n",
            "[1, 2, 3, 4, 5, 6, 24, 7]\n"
          ]
        }
      ]
    },
    {
      "cell_type": "code",
      "metadata": {
        "colab": {
          "base_uri": "https://localhost:8080/"
        },
        "id": "UVhdBpEVb5AV",
        "outputId": "f1fae946-d178-4cc5-ac04-1370d9e0fccb"
      },
      "source": [
        "#INHERITANCE IN PYHTON OOPS\n",
        "class Animal:\n",
        "  def eat(self):\n",
        "    print(\"I CAN EAT\")\n",
        "    \n",
        "class Dog(Animal):         # We derived Dog Class from animal class\n",
        "  def bark(self):\n",
        "    print(\"I CAN BARK\")\n",
        "\n",
        "class cat(Animal):\n",
        "  def get_grumpy(self):\n",
        "    print(\"Iam gromy\")\n",
        "\n",
        "\n",
        "#create obijects \n",
        "dog1 = Dog()\n",
        "dog1.eat()\n",
        "dog1.bark()\n",
        "cat1= cat()\n",
        "cat1.eat()\n",
        "cat1.get_grumpy()"
      ],
      "execution_count": null,
      "outputs": [
        {
          "output_type": "stream",
          "name": "stdout",
          "text": [
            "I CAN EAT\n",
            "I CAN BARK\n",
            "I CAN EAT\n",
            "Iam gromy\n"
          ]
        }
      ]
    },
    {
      "cell_type": "code",
      "metadata": {
        "colab": {
          "base_uri": "https://localhost:8080/"
        },
        "id": "oBfNpD85rgrV",
        "outputId": "eed958d4-eef6-4928-de72-3836ec929a0a"
      },
      "source": [
        "#PRACTICAL EXAMPLES OF INHERITANCE IN PYTHON \n",
        "class Polygon:\n",
        "    def __init__(self, sides):\n",
        "        self.sides = sides\n",
        "\n",
        "    def display_info(self):\n",
        "        print(\"A polygon is a two dimensional shape with straight lines\")\n",
        "\n",
        "    def get_perimeter(self):\n",
        "        perimeter = sum(self.sides)                                # USED SUM OPERATION\n",
        "        return perimeter\n",
        "\n",
        "\n",
        "class Triangle(Polygon):\n",
        "    def display_info(self):\n",
        "        print(\"A triangle is a polygon with 3 edges\")\n",
        "\n",
        "\n",
        "class Quadrilateral(Polygon):\n",
        "    def display_info(self):\n",
        "        print(\"A quadrilateral is a polygon with 4 edges\")\n",
        "\n",
        "\n",
        "t1 = Triangle([5, 6, 7])\n",
        "perimeter = t1.get_perimeter()\n",
        "print(\"Perimeter:\", perimeter)\n",
        "\n"
      ],
      "execution_count": null,
      "outputs": [
        {
          "output_type": "stream",
          "name": "stdout",
          "text": [
            "Perimeter: 18\n"
          ]
        }
      ]
    },
    {
      "cell_type": "code",
      "metadata": {
        "colab": {
          "base_uri": "https://localhost:8080/"
        },
        "id": "dQy0gE0koiWu",
        "outputId": "04b6f24c-b118-42fd-ad95-55b13ab6c76a"
      },
      "source": [
        "#PRACTICAL EXAMPLES OF INHERITANCE IN PYTHON \n",
        "class Polygon:\n",
        "    def __init__(self, sides):\n",
        "        self.sides = sides\n",
        "\n",
        "    def display_info(self):\n",
        "        print(\"A polygon is a two dimensional shape with straight lines\")\n",
        "\n",
        "    def get_perimeter(self):\n",
        "        value = 0\n",
        "        for side in self.sides:\n",
        "            value += side                                # USED ARITHMETIC OPERATORS\n",
        "        return value\n",
        "\n",
        "\n",
        "class Triangle(Polygon):\n",
        "    def display_info(self):\n",
        "        print(\"A triangle is a polygon with 3 edges\")\n",
        "\n",
        "\n",
        "class Quadrilateral(Polygon):\n",
        "    def display_info(self):\n",
        "        print(\"A quadrilateral is a polygon with 4 edges\")\n",
        "\n",
        "t1 = Triangle([5, 6, 7])\n",
        "perimeter = t1.get_perimeter()\n",
        "print(\"Perimeter:\", perimeter)\n",
        "#METHOD OVER  RIDING HANDLING\n",
        "t1.display_info()\n",
        "\n",
        "s1 = Quadrilateral([1,2,3,4])\n",
        "circumference = s1.get_perimeter() \n",
        "print(\"The Circumference is : \", circumference)\n",
        "s1.display_info()\n",
        "# METHOD OVERRIDING IS DEFINED AS .:\n",
        "# IF THE SAME METHOD IS DEFINED IN BOTH BASE & DERIVED CLASSES , THEN THE METHOD OF THE DERIVED CLASS OVERRIDES THE METHOD OF THR BASE CLASS\n"
      ],
      "execution_count": null,
      "outputs": [
        {
          "output_type": "stream",
          "name": "stdout",
          "text": [
            "Perimeter: 18\n",
            "A triangle is a polygon with 3 edges\n",
            "The Circumference is :  10\n",
            "A quadrilateral is a polygon with 4 edges\n"
          ]
        }
      ]
    },
    {
      "cell_type": "code",
      "metadata": {
        "colab": {
          "base_uri": "https://localhost:8080/"
        },
        "id": "kut7kcDy5nrj",
        "outputId": "96b497b4-08de-44e4-dd0f-52d10050b18a"
      },
      "source": [
        "#PYTHON MODULES \n",
        "import math\n",
        "num =25\n",
        "result = math.sqrt(num)\n",
        "print(result)\n",
        "print(math.pi)\n",
        "print(dir(math))                  # dir() function\n",
        "from math import pi, sin , sqrt\n",
        "nums = sqrt(625)\n",
        "print(nums)\n",
        "value = sin(pi/2)\n",
        "print(value)"
      ],
      "execution_count": null,
      "outputs": [
        {
          "output_type": "stream",
          "name": "stdout",
          "text": [
            "5.0\n",
            "3.141592653589793\n",
            "['__doc__', '__loader__', '__name__', '__package__', '__spec__', 'acos', 'acosh', 'asin', 'asinh', 'atan', 'atan2', 'atanh', 'ceil', 'copysign', 'cos', 'cosh', 'degrees', 'e', 'erf', 'erfc', 'exp', 'expm1', 'fabs', 'factorial', 'floor', 'fmod', 'frexp', 'fsum', 'gamma', 'gcd', 'hypot', 'inf', 'isclose', 'isfinite', 'isinf', 'isnan', 'ldexp', 'lgamma', 'log', 'log10', 'log1p', 'log2', 'modf', 'nan', 'pi', 'pow', 'radians', 'remainder', 'sin', 'sinh', 'sqrt', 'tan', 'tanh', 'tau', 'trunc']\n",
            "25.0\n",
            "1.0\n"
          ]
        }
      ]
    },
    {
      "cell_type": "code",
      "metadata": {
        "colab": {
          "base_uri": "https://localhost:8080/"
        },
        "id": "ZkZ5Nj51rTfa",
        "outputId": "2c3c9c10-7aec-4457-f8a7-f3eb86b8e065"
      },
      "source": [
        "#LIST ALL THE PACKAGES IN A LIST\n",
        "!pip list"
      ],
      "execution_count": null,
      "outputs": [
        {
          "output_type": "stream",
          "name": "stdout",
          "text": [
            "Package                       Version\n",
            "----------------------------- ----------------------\n",
            "absl-py                       0.12.0\n",
            "alabaster                     0.7.12\n",
            "albumentations                0.1.12\n",
            "altair                        4.1.0\n",
            "appdirs                       1.4.4\n",
            "argcomplete                   1.12.3\n",
            "argon2-cffi                   21.1.0\n",
            "arviz                         0.11.4\n",
            "astor                         0.8.1\n",
            "astropy                       4.3.1\n",
            "astunparse                    1.6.3\n",
            "atari-py                      0.2.9\n",
            "atomicwrites                  1.4.0\n",
            "attrs                         21.2.0\n",
            "audioread                     2.1.9\n",
            "autograd                      1.3\n",
            "Babel                         2.9.1\n",
            "backcall                      0.2.0\n",
            "beautifulsoup4                4.6.3\n",
            "bleach                        4.1.0\n",
            "blis                          0.4.1\n",
            "bokeh                         2.3.3\n",
            "Bottleneck                    1.3.2\n",
            "branca                        0.4.2\n",
            "bs4                           0.0.1\n",
            "CacheControl                  0.12.10\n",
            "cached-property               1.5.2\n",
            "cachetools                    4.2.4\n",
            "catalogue                     1.0.0\n",
            "certifi                       2021.10.8\n",
            "cffi                          1.15.0\n",
            "cftime                        1.5.1.1\n",
            "chardet                       3.0.4\n",
            "charset-normalizer            2.0.7\n",
            "click                         7.1.2\n",
            "cloudpickle                   1.3.0\n",
            "cmake                         3.12.0\n",
            "cmdstanpy                     0.9.5\n",
            "colorcet                      2.0.6\n",
            "colorlover                    0.3.0\n",
            "community                     1.0.0b1\n",
            "contextlib2                   0.5.5\n",
            "convertdate                   2.3.2\n",
            "coverage                      3.7.1\n",
            "coveralls                     0.5\n",
            "crcmod                        1.7\n",
            "cufflinks                     0.17.3\n",
            "cvxopt                        1.2.7\n",
            "cvxpy                         1.0.31\n",
            "cycler                        0.11.0\n",
            "cymem                         2.0.6\n",
            "Cython                        0.29.24\n",
            "daft                          0.0.4\n",
            "dask                          2.12.0\n",
            "datascience                   0.10.6\n",
            "debugpy                       1.0.0\n",
            "decorator                     4.4.2\n",
            "defusedxml                    0.7.1\n",
            "descartes                     1.1.0\n",
            "dill                          0.3.4\n",
            "distributed                   1.25.3\n",
            "dlib                          19.18.0\n",
            "dm-tree                       0.1.6\n",
            "docopt                        0.6.2\n",
            "docutils                      0.17.1\n",
            "dopamine-rl                   1.0.5\n",
            "earthengine-api               0.1.290\n",
            "easydict                      1.9\n",
            "ecos                          2.0.7.post1\n",
            "editdistance                  0.5.3\n",
            "en-core-web-sm                2.2.5\n",
            "entrypoints                   0.3\n",
            "ephem                         4.1\n",
            "et-xmlfile                    1.1.0\n",
            "fa2                           0.3.5\n",
            "fastai                        1.0.61\n",
            "fastdtw                       0.3.4\n",
            "fastprogress                  1.0.0\n",
            "fastrlock                     0.8\n",
            "fbprophet                     0.7.1\n",
            "feather-format                0.4.1\n",
            "filelock                      3.4.0\n",
            "firebase-admin                4.4.0\n",
            "fix-yahoo-finance             0.0.22\n",
            "Flask                         1.1.4\n",
            "flatbuffers                   2.0\n",
            "folium                        0.8.3\n",
            "fonttools                     4.28.1\n",
            "future                        0.16.0\n",
            "gast                          0.4.0\n",
            "GDAL                          2.2.2\n",
            "gdown                         3.6.4\n",
            "gensim                        3.6.0\n",
            "geographiclib                 1.52\n",
            "geopy                         1.17.0\n",
            "gin-config                    0.5.0\n",
            "glob2                         0.7\n",
            "google                        2.0.3\n",
            "google-api-core               1.26.3\n",
            "google-api-python-client      1.12.8\n",
            "google-auth                   1.35.0\n",
            "google-auth-httplib2          0.0.4\n",
            "google-auth-oauthlib          0.4.6\n",
            "google-cloud-bigquery         1.21.0\n",
            "google-cloud-bigquery-storage 1.1.0\n",
            "google-cloud-core             1.0.3\n",
            "google-cloud-datastore        1.8.0\n",
            "google-cloud-firestore        1.7.0\n",
            "google-cloud-language         1.2.0\n",
            "google-cloud-storage          1.18.1\n",
            "google-cloud-translate        1.5.0\n",
            "google-colab                  1.0.0\n",
            "google-pasta                  0.2.0\n",
            "google-resumable-media        0.4.1\n",
            "googleapis-common-protos      1.53.0\n",
            "googledrivedownloader         0.4\n",
            "graphviz                      0.10.1\n",
            "greenlet                      1.1.2\n",
            "grpcio                        1.42.0\n",
            "gspread                       3.0.1\n",
            "gspread-dataframe             3.0.8\n",
            "gym                           0.17.3\n",
            "h5py                          3.1.0\n",
            "HeapDict                      1.0.1\n",
            "hijri-converter               2.2.2\n",
            "holidays                      0.10.5.2\n",
            "holoviews                     1.14.6\n",
            "html5lib                      1.0.1\n",
            "httpimport                    0.5.18\n",
            "httplib2                      0.17.4\n",
            "httplib2shim                  0.0.3\n",
            "humanize                      0.5.1\n",
            "hyperopt                      0.1.2\n",
            "ideep4py                      2.0.0.post3\n",
            "idna                          2.10\n",
            "imageio                       2.4.1\n",
            "imagesize                     1.3.0\n",
            "imbalanced-learn              0.8.1\n",
            "imblearn                      0.0\n",
            "imgaug                        0.2.9\n",
            "importlib-metadata            4.8.2\n",
            "importlib-resources           5.4.0\n",
            "imutils                       0.5.4\n",
            "inflect                       2.1.0\n",
            "iniconfig                     1.1.1\n",
            "intel-openmp                  2021.4.0\n",
            "intervaltree                  2.1.0\n",
            "ipykernel                     4.10.1\n",
            "ipython                       5.5.0\n",
            "ipython-genutils              0.2.0\n",
            "ipython-sql                   0.3.9\n",
            "ipywidgets                    7.6.5\n",
            "itsdangerous                  1.1.0\n",
            "jax                           0.2.25\n",
            "jaxlib                        0.1.74+cuda11.cudnn805\n",
            "jdcal                         1.4.1\n",
            "jedi                          0.18.1\n",
            "jieba                         0.42.1\n",
            "Jinja2                        2.11.3\n",
            "joblib                        1.1.0\n",
            "jpeg4py                       0.1.4\n",
            "jsonschema                    2.6.0\n",
            "jupyter                       1.0.0\n",
            "jupyter-client                5.3.5\n",
            "jupyter-console               5.2.0\n",
            "jupyter-core                  4.9.1\n",
            "jupyterlab-pygments           0.1.2\n",
            "jupyterlab-widgets            1.0.2\n",
            "kaggle                        1.5.12\n",
            "kapre                         0.3.6\n",
            "keras                         2.7.0\n",
            "Keras-Preprocessing           1.1.2\n",
            "keras-vis                     0.4.1\n",
            "kiwisolver                    1.3.2\n",
            "korean-lunar-calendar         0.2.1\n",
            "libclang                      12.0.0\n",
            "librosa                       0.8.1\n",
            "lightgbm                      2.2.3\n",
            "llvmlite                      0.34.0\n",
            "lmdb                          0.99\n",
            "LunarCalendar                 0.0.9\n",
            "lxml                          4.2.6\n",
            "Markdown                      3.3.6\n",
            "MarkupSafe                    2.0.1\n",
            "matplotlib                    3.2.2\n",
            "matplotlib-inline             0.1.3\n",
            "matplotlib-venn               0.11.6\n",
            "missingno                     0.5.0\n",
            "mistune                       0.8.4\n",
            "mizani                        0.6.0\n",
            "mkl                           2019.0\n",
            "mlxtend                       0.14.0\n",
            "more-itertools                8.11.0\n",
            "moviepy                       0.2.3.5\n",
            "mpmath                        1.2.1\n",
            "msgpack                       1.0.2\n",
            "multiprocess                  0.70.12.2\n",
            "multitasking                  0.0.10\n",
            "murmurhash                    1.0.6\n",
            "music21                       5.5.0\n",
            "natsort                       5.5.0\n",
            "nbclient                      0.5.9\n",
            "nbconvert                     5.6.1\n",
            "nbformat                      5.1.3\n",
            "nest-asyncio                  1.5.1\n",
            "netCDF4                       1.5.8\n",
            "networkx                      2.6.3\n",
            "nibabel                       3.0.2\n",
            "nltk                          3.2.5\n",
            "notebook                      5.3.1\n",
            "numba                         0.51.2\n",
            "numexpr                       2.7.3\n",
            "numpy                         1.19.5\n",
            "nvidia-ml-py3                 7.352.0\n",
            "oauth2client                  4.1.3\n",
            "oauthlib                      3.1.1\n",
            "okgrade                       0.4.3\n",
            "opencv-contrib-python         4.1.2.30\n",
            "opencv-python                 4.1.2.30\n",
            "openpyxl                      2.5.9\n",
            "opt-einsum                    3.3.0\n",
            "osqp                          0.6.2.post0\n",
            "packaging                     21.3\n",
            "palettable                    3.3.0\n",
            "pandas                        1.1.5\n",
            "pandas-datareader             0.9.0\n",
            "pandas-gbq                    0.13.3\n",
            "pandas-profiling              1.4.1\n",
            "pandocfilters                 1.5.0\n",
            "panel                         0.12.1\n",
            "param                         1.12.0\n",
            "parso                         0.8.2\n",
            "pathlib                       1.0.1\n",
            "patsy                         0.5.2\n",
            "pep517                        0.12.0\n",
            "pexpect                       4.8.0\n",
            "pickleshare                   0.7.5\n",
            "Pillow                        7.1.2\n",
            "pip                           21.1.3\n",
            "pip-tools                     6.2.0\n",
            "plac                          1.1.3\n",
            "plotly                        4.4.1\n",
            "plotnine                      0.6.0\n",
            "pluggy                        0.7.1\n",
            "pooch                         1.5.2\n",
            "portpicker                    1.3.9\n",
            "prefetch-generator            1.0.1\n",
            "preshed                       3.0.6\n",
            "prettytable                   2.4.0\n",
            "progressbar2                  3.38.0\n",
            "prometheus-client             0.12.0\n",
            "promise                       2.3\n",
            "prompt-toolkit                1.0.18\n",
            "protobuf                      3.17.3\n",
            "psutil                        5.4.8\n",
            "psycopg2                      2.7.6.1\n",
            "ptyprocess                    0.7.0\n",
            "py                            1.11.0\n",
            "pyarrow                       3.0.0\n",
            "pyasn1                        0.4.8\n",
            "pyasn1-modules                0.2.8\n",
            "pycocotools                   2.0.2\n",
            "pycparser                     2.21\n",
            "pyct                          0.4.8\n",
            "pydata-google-auth            1.2.0\n",
            "pydot                         1.3.0\n",
            "pydot-ng                      2.0.0\n",
            "pydotplus                     2.0.2\n",
            "PyDrive                       1.3.1\n",
            "pyemd                         0.5.1\n",
            "pyerfa                        2.0.0.1\n",
            "pyglet                        1.5.0\n",
            "Pygments                      2.6.1\n",
            "pygobject                     3.26.1\n",
            "pymc3                         3.11.4\n",
            "PyMeeus                       0.5.11\n",
            "pymongo                       3.12.1\n",
            "pymystem3                     0.2.0\n",
            "PyOpenGL                      3.1.5\n",
            "pyparsing                     3.0.6\n",
            "pyrsistent                    0.18.0\n",
            "pysndfile                     1.3.8\n",
            "PySocks                       1.7.1\n",
            "pystan                        2.19.1.1\n",
            "pytest                        3.6.4\n",
            "python-apt                    0.0.0\n",
            "python-chess                  0.23.11\n",
            "python-dateutil               2.8.2\n",
            "python-louvain                0.15\n",
            "python-slugify                5.0.2\n",
            "python-utils                  2.5.6\n",
            "pytz                          2018.9\n",
            "pyviz-comms                   2.1.0\n",
            "PyWavelets                    1.2.0\n",
            "PyYAML                        3.13\n",
            "pyzmq                         22.3.0\n",
            "qdldl                         0.1.5.post0\n",
            "qtconsole                     5.2.0\n",
            "QtPy                          1.11.2\n",
            "regex                         2019.12.20\n",
            "requests                      2.23.0\n",
            "requests-oauthlib             1.3.0\n",
            "resampy                       0.2.2\n",
            "retrying                      1.3.3\n",
            "rpy2                          3.4.5\n",
            "rsa                           4.7.2\n",
            "scikit-image                  0.18.3\n",
            "scikit-learn                  1.0.1\n",
            "scipy                         1.4.1\n",
            "screen-resolution-extra       0.0.0\n",
            "scs                           2.1.4\n",
            "seaborn                       0.11.2\n",
            "semver                        2.13.0\n",
            "Send2Trash                    1.8.0\n",
            "setuptools                    57.4.0\n",
            "setuptools-git                1.2\n",
            "setuptools-scm                6.3.2\n",
            "Shapely                       1.8.0\n",
            "simplegeneric                 0.8.1\n",
            "six                           1.15.0\n",
            "sklearn                       0.0\n",
            "sklearn-pandas                1.8.0\n",
            "smart-open                    5.2.1\n",
            "snowballstemmer               2.2.0\n",
            "sortedcontainers              2.4.0\n",
            "SoundFile                     0.10.3.post1\n",
            "spacy                         2.2.4\n",
            "Sphinx                        1.8.6\n",
            "sphinxcontrib-serializinghtml 1.1.5\n",
            "sphinxcontrib-websupport      1.2.4\n",
            "SQLAlchemy                    1.4.27\n",
            "sqlparse                      0.4.2\n",
            "srsly                         1.0.5\n",
            "statsmodels                   0.10.2\n",
            "sympy                         1.7.1\n",
            "tables                        3.4.4\n",
            "tabulate                      0.8.9\n",
            "tblib                         1.7.0\n",
            "tensorboard                   2.7.0\n",
            "tensorboard-data-server       0.6.1\n",
            "tensorboard-plugin-wit        1.8.0\n",
            "tensorflow                    2.7.0\n",
            "tensorflow-datasets           4.0.1\n",
            "tensorflow-estimator          2.7.0\n",
            "tensorflow-gcs-config         2.7.0\n",
            "tensorflow-hub                0.12.0\n",
            "tensorflow-io-gcs-filesystem  0.22.0\n",
            "tensorflow-metadata           1.4.0\n",
            "tensorflow-probability        0.15.0\n",
            "termcolor                     1.1.0\n",
            "terminado                     0.12.1\n",
            "testpath                      0.5.0\n",
            "text-unidecode                1.3\n",
            "textblob                      0.15.3\n",
            "Theano-PyMC                   1.1.2\n",
            "thinc                         7.4.0\n",
            "threadpoolctl                 3.0.0\n",
            "tifffile                      2021.11.2\n",
            "toml                          0.10.2\n",
            "tomli                         1.2.2\n",
            "toolz                         0.11.2\n",
            "torch                         1.10.0+cu111\n",
            "torchaudio                    0.10.0+cu111\n",
            "torchsummary                  1.5.1\n",
            "torchtext                     0.11.0\n",
            "torchvision                   0.11.1+cu111\n",
            "tornado                       5.1.1\n",
            "tqdm                          4.62.3\n",
            "traitlets                     5.1.1\n",
            "tweepy                        3.10.0\n",
            "typeguard                     2.7.1\n",
            "typing-extensions             3.10.0.2\n",
            "tzlocal                       1.5.1\n",
            "uritemplate                   3.0.1\n",
            "urllib3                       1.24.3\n",
            "vega-datasets                 0.9.0\n",
            "wasabi                        0.8.2\n",
            "wcwidth                       0.2.5\n",
            "webencodings                  0.5.1\n",
            "Werkzeug                      1.0.1\n",
            "wheel                         0.37.0\n",
            "widgetsnbextension            3.5.2\n",
            "wordcloud                     1.5.0\n",
            "wrapt                         1.13.3\n",
            "xarray                        0.18.2\n",
            "xgboost                       0.90\n",
            "xkit                          0.0.0\n",
            "xlrd                          1.1.0\n",
            "xlwt                          1.3.0\n",
            "yellowbrick                   1.3.post1\n",
            "zict                          2.0.0\n",
            "zipp                          3.6.0\n"
          ]
        }
      ]
    },
    {
      "cell_type": "code",
      "metadata": {
        "id": "fpXhJH41r3_z"
      },
      "source": [
        "# EXCEPTION HANDLING - PROCESS OF RESPONDING TO EXCEPTIONS IN A CUSTOM WAY DURING THE EXECUTION OF A PROGRAM\n",
        "#SYNTAX\n",
        "\n",
        "#try:\n",
        "    # code that may cause exceptions\n",
        "\n",
        "#except:\n",
        "    # Code to run when exception occurs\n",
        "\n",
        "\n"
      ],
      "execution_count": null,
      "outputs": []
    },
    {
      "cell_type": "code",
      "metadata": {
        "id": "MjY64KJdfZwH"
      },
      "source": [
        "#PYTHON FILE HANDLING\n",
        "# perform three operations\n",
        "# 1.) Open a file , 2).Perform operation(Read or write), 3.) Close the file\n",
        "# OPEN FUNCTION - OPENING THE FILE , WHICH RETURNS THE FILE OBJECT WHUCH IS STORED IN THE VARIABLE \n",
        "# BY DEFAULT FILE OPENS IN READ MODE\n",
        "# READ MODE - \"r\"\n",
        "# WRITE MODE - \"w\"\n",
        "# APPPEND MODE - \"a\"  (creates a new file if doesn't exist , appends a)"
      ],
      "execution_count": null,
      "outputs": []
    },
    {
      "cell_type": "code",
      "metadata": {
        "id": "6odZIKG96mOP"
      },
      "source": [
        "# PYTHON OS MODULES  - TO WORK WITH DIRECTORIES & FILE MANAGEMENT\n",
        "# TO CHANGE THE CURRENT WORKING DIRECTORY BY USING chdir() function of the OS module\n",
        "# IN PYTHON , ALL FILES & SUB-DIRECTORIES INSIDE A DIRECYORY CAN BE RETRIEVED USING THE listdir() function of the OS module.\n",
        "# TO RENAME ANY DIRECTORY OR FILE USING THE os.rename() function which taken in 2 arguments: old name & new name .\n",
        "# TO REMOVE AN EMPTY DIRECTORY USING THE rmdir() function of the OS MODULE"
      ],
      "execution_count": null,
      "outputs": []
    },
    {
      "cell_type": "code",
      "metadata": {
        "id": "roxfAKhZqfdz",
        "colab": {
          "base_uri": "https://localhost:8080/"
        },
        "outputId": "78b44abd-404d-4ed3-aca7-bf04bef6b939"
      },
      "source": [
        "# PTHON ITERATORS\n",
        "# AN OBJECT WHICH IMPLEMENTS THE __iter__() method is called an iterable\n",
        "\n",
        "\n",
        "# NEXT METHOD  __next__()  - returns the next value in the iteration & updates the state too the next value\n",
        "numbers = [1,4,9]\n",
        "value = iter(numbers)\n",
        "item1 =next(value)\n",
        "print(item1)\n",
        "\n",
        "item2= next(value)\n",
        "print(item2)\n",
        "\n",
        "item3 = next(value)\n",
        "print(item3)\n",
        "\n"
      ],
      "execution_count": null,
      "outputs": [
        {
          "output_type": "stream",
          "name": "stdout",
          "text": [
            "1\n",
            "4\n",
            "9\n"
          ]
        }
      ]
    },
    {
      "cell_type": "code",
      "metadata": {
        "colab": {
          "base_uri": "https://localhost:8080/"
        },
        "id": "ylvmTy-6XXk7",
        "outputId": "2ca0bb0b-2118-4537-e121-3cb772daa1c0"
      },
      "source": [
        "# CREATING CUSTOM ITERATORS\n",
        "class Even:\n",
        "  def __init__(self,max):\n",
        "    self.n = 2\n",
        "    self.max =max\n",
        "\n",
        "  def __iter__(self):\n",
        "    return self\n",
        "\n",
        "  def __next__(self):\n",
        "    if self.n <= self.max:\n",
        "      result = self.n\n",
        "      self.n += 2\n",
        "      return result\n",
        "    else:\n",
        "      raise StopIteration\n",
        "\n",
        "\n",
        "numbers = Even(10)\n",
        "print(next(numbers)) \n",
        "print(next(numbers)) \n",
        "print(next(numbers)) \n",
        "print(next(numbers))\n",
        "print(next(numbers)) "
      ],
      "execution_count": null,
      "outputs": [
        {
          "output_type": "stream",
          "name": "stdout",
          "text": [
            "2\n",
            "4\n",
            "6\n",
            "8\n",
            "10\n"
          ]
        }
      ]
    },
    {
      "cell_type": "code",
      "metadata": {
        "colab": {
          "base_uri": "https://localhost:8080/"
        },
        "id": "HLlw81CIc2x5",
        "outputId": "a607fcda-6ae1-4012-d500-53570dbb1f5b"
      },
      "source": [
        "# GENERATORS IN PYTHON  - To create a custom way to generate iterators\n",
        "def even_generator(max):\n",
        "  n =2\n",
        "  while n<= max :\n",
        "    yield n                    # continous the operation for the next values\n",
        "    n+=2\n",
        "\n",
        "numbers = even_generator(10)\n",
        "print(next(numbers))\n",
        "print(next(numbers))\n",
        "print(next(numbers))\n",
        "print(next(numbers))\n",
        "print(next(numbers))\n",
        "\n",
        "# generator - doesn't hold  the entire result in the memory but it yields one result at time\n"
      ],
      "execution_count": null,
      "outputs": [
        {
          "output_type": "stream",
          "name": "stdout",
          "text": [
            "2\n",
            "4\n",
            "6\n",
            "8\n",
            "10\n"
          ]
        }
      ]
    },
    {
      "cell_type": "code",
      "metadata": {
        "colab": {
          "base_uri": "https://localhost:8080/"
        },
        "id": "6pR6w9lQp_Rp",
        "outputId": "dee32c57-da60-476e-de8f-b147578b3ec8"
      },
      "source": [
        "def generate_fibonacci():\n",
        "  n1 = 0\n",
        "  n2 = 1\n",
        "  while True:\n",
        "    yield n1\n",
        "    n1,n2 = n2, n1+n2\n",
        "\n",
        "seq = generate_fibonacci()\n",
        "\n",
        "print(next(seq))\n",
        "print(next(seq))\n",
        "print(next(seq))\n",
        "print(next(seq))\n",
        "print(next(seq))"
      ],
      "execution_count": null,
      "outputs": [
        {
          "output_type": "stream",
          "name": "stdout",
          "text": [
            "0\n",
            "1\n",
            "1\n",
            "2\n",
            "3\n"
          ]
        }
      ]
    },
    {
      "cell_type": "code",
      "metadata": {
        "colab": {
          "base_uri": "https://localhost:8080/"
        },
        "id": "__gKRodQq_-f",
        "outputId": "b195ed3b-64ff-422b-b176-29591f05a531"
      },
      "source": [
        "def fibonacci_odd():\n",
        "  n =1\n",
        "  while True:\n",
        "    yield n\n",
        "    n += 2\n",
        "\n",
        "odd_generator = fibonacci_odd()\n",
        "\n",
        "\n",
        "for i in range(20):\n",
        "  print(next(odd_generator))\n",
        "\n"
      ],
      "execution_count": null,
      "outputs": [
        {
          "output_type": "stream",
          "name": "stdout",
          "text": [
            "1\n",
            "3\n",
            "5\n",
            "7\n",
            "9\n",
            "11\n",
            "13\n",
            "15\n",
            "17\n",
            "19\n",
            "21\n",
            "23\n",
            "25\n",
            "27\n",
            "29\n",
            "31\n",
            "33\n",
            "35\n",
            "37\n",
            "39\n"
          ]
        }
      ]
    },
    {
      "cell_type": "code",
      "metadata": {
        "colab": {
          "base_uri": "https://localhost:8080/"
        },
        "id": "laj_Gex3qjXH",
        "outputId": "5608ce98-b77b-4e33-df2e-dbc23725aedd"
      },
      "source": [
        "nums = [1,2,3,4,5,6]\n",
        "new_nums = [i**2 for i in nums]   # LIST COMPRESSIONS\n",
        "print(new_nums)"
      ],
      "execution_count": null,
      "outputs": [
        {
          "output_type": "stream",
          "name": "stdout",
          "text": [
            "[1, 4, 9, 16, 25, 36]\n"
          ]
        }
      ]
    },
    {
      "cell_type": "code",
      "metadata": {
        "colab": {
          "base_uri": "https://localhost:8080/"
        },
        "id": "P-Ybt3B2t9oS",
        "outputId": "6c0ac2d3-9be8-4af7-e742-41ec43671782"
      },
      "source": [
        "# TIME DATE MODULES IN PYTHON\n",
        "import datetime as dt\n",
        "current_date = dt.date.today()\n",
        "print(current_date)\n",
        "print(\"YEAR: \", current_date.year)\n",
        "print(\"MONTH: \", current_date.month)\n",
        "print(\"DAY : \", current_date.day)\n",
        "\n"
      ],
      "execution_count": null,
      "outputs": [
        {
          "output_type": "stream",
          "name": "stdout",
          "text": [
            "2021-11-29\n",
            "YEAR:  2021\n",
            "MONTH:  11\n",
            "DAY :  29\n"
          ]
        }
      ]
    },
    {
      "cell_type": "code",
      "metadata": {
        "colab": {
          "base_uri": "https://localhost:8080/"
        },
        "id": "wYcpG1Xe-KCV",
        "outputId": "79a09f7c-39db-4996-a485-b2e8630b1fd1"
      },
      "source": [
        "# date time modules\n",
        "# DATE CLASS----- TO WORK WITH DATE\n",
        "# TIME CLASS ----- TO WORK WITH TIME\n",
        "# DATETIMECLASS ---- COMBINATION OF DATE & TIME CLASS\n",
        "import datetime as dt\n",
        "datetime_obj = dt.datetime(2021,11,29,10,30,24)\n",
        "print(datetime_obj)\n",
        "print(datetime_obj.date())\n",
        "print(datetime_obj.time())"
      ],
      "execution_count": null,
      "outputs": [
        {
          "output_type": "stream",
          "name": "stdout",
          "text": [
            "2021-11-29 10:30:24\n",
            "2021-11-29\n",
            "10:30:24\n"
          ]
        }
      ]
    },
    {
      "cell_type": "code",
      "metadata": {
        "colab": {
          "base_uri": "https://localhost:8080/"
        },
        "id": "ldnlh1VY_hXK",
        "outputId": "e615318b-a005-47a0-d86f-38b2c5c3bea7"
      },
      "source": [
        "# NOW METHOD - now() method of the datetime object can be used to get the current local date & time\n",
        "current_datetime = dt.datetime.now()\n",
        "print(current_datetime)"
      ],
      "execution_count": null,
      "outputs": [
        {
          "output_type": "stream",
          "name": "stdout",
          "text": [
            "2021-11-29 04:47:47.775011\n"
          ]
        }
      ]
    },
    {
      "cell_type": "code",
      "metadata": {
        "colab": {
          "base_uri": "https://localhost:8080/",
          "height": 380
        },
        "id": "aPlJKirhB0Sd",
        "outputId": "a2a2d1f1-f32d-40c4-85fe-70f1ee0c9d8f"
      },
      "source": [
        "# STRFTIME()METHOD - the strftime() methOd returns a string representing date & time for the datetime object.\n",
        "# STRPTIME ()METHOD - strptime() CONVERTS STRINGS TO DATETIME OBJECTS\n",
        "\n",
        "import datetime as dt\n",
        "date_string = \"21 June, 2021\"\n",
        "date_object = dt.datetime.strptime(date_string, \"%d %s, %Y\")\n",
        "print(\"Date object : \", date_object)"
      ],
      "execution_count": null,
      "outputs": [
        {
          "output_type": "error",
          "ename": "ValueError",
          "evalue": "ignored",
          "traceback": [
            "\u001b[0;31m---------------------------------------------------------------------------\u001b[0m",
            "\u001b[0;31mValueError\u001b[0m                                Traceback (most recent call last)",
            "\u001b[0;32m<ipython-input-27-0ea54eae3853>\u001b[0m in \u001b[0;36m<module>\u001b[0;34m()\u001b[0m\n\u001b[1;32m      4\u001b[0m \u001b[0;32mimport\u001b[0m \u001b[0mdatetime\u001b[0m \u001b[0;32mas\u001b[0m \u001b[0mdt\u001b[0m\u001b[0;34m\u001b[0m\u001b[0;34m\u001b[0m\u001b[0m\n\u001b[1;32m      5\u001b[0m \u001b[0mdate_string\u001b[0m \u001b[0;34m=\u001b[0m \u001b[0;34m\"21 June, 2021\"\u001b[0m\u001b[0;34m\u001b[0m\u001b[0;34m\u001b[0m\u001b[0m\n\u001b[0;32m----> 6\u001b[0;31m \u001b[0mdate_object\u001b[0m \u001b[0;34m=\u001b[0m \u001b[0mdt\u001b[0m\u001b[0;34m.\u001b[0m\u001b[0mdatetime\u001b[0m\u001b[0;34m.\u001b[0m\u001b[0mstrptime\u001b[0m\u001b[0;34m(\u001b[0m\u001b[0mdate_string\u001b[0m\u001b[0;34m,\u001b[0m \u001b[0;34m\"%d %s, %Y\"\u001b[0m\u001b[0;34m)\u001b[0m\u001b[0;34m\u001b[0m\u001b[0;34m\u001b[0m\u001b[0m\n\u001b[0m\u001b[1;32m      7\u001b[0m \u001b[0mprint\u001b[0m\u001b[0;34m(\u001b[0m\u001b[0;34m\"Date object : \"\u001b[0m\u001b[0;34m,\u001b[0m \u001b[0mdate_object\u001b[0m\u001b[0;34m)\u001b[0m\u001b[0;34m\u001b[0m\u001b[0;34m\u001b[0m\u001b[0m\n",
            "\u001b[0;32m/usr/lib/python3.7/_strptime.py\u001b[0m in \u001b[0;36m_strptime_datetime\u001b[0;34m(cls, data_string, format)\u001b[0m\n\u001b[1;32m    575\u001b[0m     \"\"\"Return a class cls instance based on the input string and the\n\u001b[1;32m    576\u001b[0m     format string.\"\"\"\n\u001b[0;32m--> 577\u001b[0;31m     \u001b[0mtt\u001b[0m\u001b[0;34m,\u001b[0m \u001b[0mfraction\u001b[0m\u001b[0;34m,\u001b[0m \u001b[0mgmtoff_fraction\u001b[0m \u001b[0;34m=\u001b[0m \u001b[0m_strptime\u001b[0m\u001b[0;34m(\u001b[0m\u001b[0mdata_string\u001b[0m\u001b[0;34m,\u001b[0m \u001b[0mformat\u001b[0m\u001b[0;34m)\u001b[0m\u001b[0;34m\u001b[0m\u001b[0;34m\u001b[0m\u001b[0m\n\u001b[0m\u001b[1;32m    578\u001b[0m     \u001b[0mtzname\u001b[0m\u001b[0;34m,\u001b[0m \u001b[0mgmtoff\u001b[0m \u001b[0;34m=\u001b[0m \u001b[0mtt\u001b[0m\u001b[0;34m[\u001b[0m\u001b[0;34m-\u001b[0m\u001b[0;36m2\u001b[0m\u001b[0;34m:\u001b[0m\u001b[0;34m]\u001b[0m\u001b[0;34m\u001b[0m\u001b[0;34m\u001b[0m\u001b[0m\n\u001b[1;32m    579\u001b[0m     \u001b[0margs\u001b[0m \u001b[0;34m=\u001b[0m \u001b[0mtt\u001b[0m\u001b[0;34m[\u001b[0m\u001b[0;34m:\u001b[0m\u001b[0;36m6\u001b[0m\u001b[0;34m]\u001b[0m \u001b[0;34m+\u001b[0m \u001b[0;34m(\u001b[0m\u001b[0mfraction\u001b[0m\u001b[0;34m,\u001b[0m\u001b[0;34m)\u001b[0m\u001b[0;34m\u001b[0m\u001b[0;34m\u001b[0m\u001b[0m\n",
            "\u001b[0;32m/usr/lib/python3.7/_strptime.py\u001b[0m in \u001b[0;36m_strptime\u001b[0;34m(data_string, format)\u001b[0m\n\u001b[1;32m    349\u001b[0m                 \u001b[0;32mdel\u001b[0m \u001b[0merr\u001b[0m\u001b[0;34m\u001b[0m\u001b[0;34m\u001b[0m\u001b[0m\n\u001b[1;32m    350\u001b[0m                 raise ValueError(\"'%s' is a bad directive in format '%s'\" %\n\u001b[0;32m--> 351\u001b[0;31m                                     (bad_directive, format)) from None\n\u001b[0m\u001b[1;32m    352\u001b[0m             \u001b[0;31m# IndexError only occurs when the format string is \"%\"\u001b[0m\u001b[0;34m\u001b[0m\u001b[0;34m\u001b[0m\u001b[0;34m\u001b[0m\u001b[0m\n\u001b[1;32m    353\u001b[0m             \u001b[0;32mexcept\u001b[0m \u001b[0mIndexError\u001b[0m\u001b[0;34m:\u001b[0m\u001b[0;34m\u001b[0m\u001b[0;34m\u001b[0m\u001b[0m\n",
            "\u001b[0;31mValueError\u001b[0m: 's' is a bad directive in format '%d %s, %Y'"
          ]
        }
      ]
    },
    {
      "cell_type": "code",
      "metadata": {
        "colab": {
          "base_uri": "https://localhost:8080/"
        },
        "id": "bIkYQNRMMbEo",
        "outputId": "24a95002-3784-454d-e986-3385e3b0f63c"
      },
      "source": [
        "# PRE - RREQUISTE FOR PYTHON DECORATORS\n",
        "# FUNCTION CAN TAKE ANOTHER FUNCTION AS A ARGUMENT\n",
        "\n",
        "def inc(x):\n",
        "  return x+1\n",
        "\n",
        "def operate(func , x):\n",
        "  result = func(x)\n",
        "  return result\n",
        "print(operate(inc,5))\n"
      ],
      "execution_count": null,
      "outputs": [
        {
          "output_type": "stream",
          "name": "stdout",
          "text": [
            "6\n"
          ]
        }
      ]
    },
    {
      "cell_type": "code",
      "metadata": {
        "colab": {
          "base_uri": "https://localhost:8080/"
        },
        "id": "9XbMdcA3XJOE",
        "outputId": "abc876f8-592c-4d0a-ce4c-49c53b402519"
      },
      "source": [
        "#  DEFINING FUNCTION INSIDE A FUNCTION\n",
        "def print_msg(message):\n",
        "  greeting = \"Hi\"\n",
        "\n",
        "  def printer():\n",
        "    print(greeting , message)\n",
        "\n",
        "  printer()\n",
        "\n",
        "print(print_msg(\"I am Ubasagan k\"))"
      ],
      "execution_count": null,
      "outputs": [
        {
          "output_type": "stream",
          "name": "stdout",
          "text": [
            "Hi I am Ubasagan k\n",
            "None\n"
          ]
        }
      ]
    },
    {
      "cell_type": "code",
      "metadata": {
        "colab": {
          "base_uri": "https://localhost:8080/"
        },
        "id": "8VAI6i8cYjPV",
        "outputId": "777c3d55-af78-4317-a552-748bcd3fce61"
      },
      "source": [
        "# FUNCTION CAN ALSO RETURN ANOTHER FUNCTION AS A VALUE\n",
        "def print_msg(message):\n",
        "  greeting = \"Hi\"\n",
        "\n",
        "  def printer():\n",
        "    print(greeting , message)\n",
        "\n",
        "  return printer\n",
        "func = print_msg(\"I am Ubasagan k\")\n",
        "func()"
      ],
      "execution_count": null,
      "outputs": [
        {
          "output_type": "stream",
          "name": "stdout",
          "text": [
            "Hi I am Ubasagan k\n"
          ]
        }
      ]
    },
    {
      "cell_type": "code",
      "metadata": {
        "id": "zOZ_gu87Zs3x"
      },
      "source": [
        "# PYTHON DECORATORS\n",
        "# IT IS A FUNCTION THAT TAKES IN A FUNCTION , ADDS SOME FUNCTIONALITY TO IT & RETURNS THE ORIGINAL FUNCTION.\n",
        "#FUNCTION CAN TAKE ANOTHER FINCTION AS ARGUMENT \n",
        "# IN PYTHON, WE CAN ALSO DEFINE A FUNCTION INSIDE A FUNCTION\n",
        "# FUNCTION CAN ALSO RETURN ANOTHER FUNCTION AS A VALUE\n",
        "\n",
        "    # DECORATING FUNCTION WITH PARAMETER\n",
        "\n",
        "\n"
      ],
      "execution_count": null,
      "outputs": []
    },
    {
      "cell_type": "markdown",
      "metadata": {
        "id": "sqWa23sUfqgp"
      },
      "source": [
        "#PATTERN PRINTING"
      ]
    },
    {
      "cell_type": "code",
      "metadata": {
        "colab": {
          "base_uri": "https://localhost:8080/"
        },
        "id": "G_XPuc2l6Yqz",
        "outputId": "0768f8fa-1fd6-432a-e70b-0287023a6e09"
      },
      "source": [
        "#PATTERN PRINTING\n",
        "for i in range(5):   # DENOTES NO:OF:ROWS\n",
        "  for j in range(6): # DENOTES NO:OF:COLUMNS\n",
        "    print('$',end= \"\")\n",
        "\n",
        "  print()"
      ],
      "execution_count": null,
      "outputs": [
        {
          "output_type": "stream",
          "name": "stdout",
          "text": [
            "$$$$$$\n",
            "$$$$$$\n",
            "$$$$$$\n",
            "$$$$$$\n",
            "$$$$$$\n"
          ]
        }
      ]
    },
    {
      "cell_type": "code",
      "metadata": {
        "colab": {
          "base_uri": "https://localhost:8080/"
        },
        "id": "RqPyo9aJ7cjE",
        "outputId": "690c14d6-5172-47b9-9459-8067239968ac"
      },
      "source": [
        "#PATTERN PRINTING\n",
        "for i in range(5):   # DENOTES NO:OF:ROWS\n",
        "  for j in range(5-i): # DENOTES NO:OF:COLUMNS\n",
        "    print('$',end= \"\")\n",
        "\n",
        "\n",
        "  print()"
      ],
      "execution_count": null,
      "outputs": [
        {
          "output_type": "stream",
          "name": "stdout",
          "text": [
            "$$$$$\n",
            "$$$$\n",
            "$$$\n",
            "$$\n",
            "$\n"
          ]
        }
      ]
    },
    {
      "cell_type": "code",
      "source": [
        "#PATTERN PRINTING\n",
        "for i in range(5):   # DENOTES NO:OF:ROWS\n",
        "  for j in range(i+1): # DENOTES NO:OF:COLUMNS\n",
        "    print('$',end= \"\")\n",
        "    \n",
        "\n",
        "for i in range(5,0,-1):   # DENOTES NO:OF:ROWS\n",
        "  for j in range(5-i): # DENOTES NO:OF:COLUMNS\n",
        "    print('$',end= \"\")"
      ],
      "metadata": {
        "colab": {
          "base_uri": "https://localhost:8080/"
        },
        "id": "Oygol3pFlcLO",
        "outputId": "f2f2f0e6-f03f-41d9-ef10-b8b498f0f66d"
      },
      "execution_count": null,
      "outputs": [
        {
          "output_type": "stream",
          "name": "stdout",
          "text": [
            "$$$$$$$$$$$$$$$$$$$$$$$$$"
          ]
        }
      ]
    },
    {
      "cell_type": "code",
      "metadata": {
        "colab": {
          "base_uri": "https://localhost:8080/"
        },
        "id": "tVcpucTR9PTr",
        "outputId": "dc2494dd-ec66-4b1f-bd8b-089191fa3f99"
      },
      "source": [
        "#PATTERN PRINTING\n",
        "for i in range(5):   # DENOTES NO:OF:ROWS\n",
        "  for j in range(i+1): # DENOTES NO:OF:COLUMNS\n",
        "    print('$',end= \"\")\n",
        "\n",
        "\n",
        "  print()"
      ],
      "execution_count": null,
      "outputs": [
        {
          "output_type": "stream",
          "name": "stdout",
          "text": [
            "$\n",
            "$$\n",
            "$$$\n",
            "$$$$\n",
            "$$$$$\n"
          ]
        }
      ]
    },
    {
      "cell_type": "code",
      "metadata": {
        "colab": {
          "base_uri": "https://localhost:8080/"
        },
        "id": "Y3iDo0Ud_uO8",
        "outputId": "dfe71f4a-4dd4-4e14-a493-55ab50998735"
      },
      "source": [
        "# SIMPLE SQAURE 5*5 PATTERN PRINTING\n",
        "for i in range(5):\n",
        "  for j in range(5):\n",
        "    print(\"*\",end=\" \")\n",
        "  print()"
      ],
      "execution_count": null,
      "outputs": [
        {
          "output_type": "stream",
          "name": "stdout",
          "text": [
            "* * * * * \n",
            "* * * * * \n",
            "* * * * * \n",
            "* * * * * \n",
            "* * * * * \n"
          ]
        }
      ]
    },
    {
      "cell_type": "code",
      "metadata": {
        "colab": {
          "base_uri": "https://localhost:8080/"
        },
        "id": "eLdGYf7_Khh7",
        "outputId": "170b4372-1183-449c-b95e-635ff479805a"
      },
      "source": [
        "#PATTERN PRINTING\n",
        "for i in range(4):   # DENOTES NO:OF:ROWS\n",
        "  for j in range(i,4): # DENOTES NO:OF:COLUMNS\n",
        "    print('@',end= \"\")\n",
        "\n",
        "\n",
        "  print()"
      ],
      "execution_count": null,
      "outputs": [
        {
          "output_type": "stream",
          "name": "stdout",
          "text": [
            "@@@@\n",
            "@@@\n",
            "@@\n",
            "@\n"
          ]
        }
      ]
    },
    {
      "cell_type": "code",
      "metadata": {
        "colab": {
          "base_uri": "https://localhost:8080/"
        },
        "id": "iYRwKeeRJ9BJ",
        "outputId": "ab018ef8-321b-4b36-a12a-9e8f065ef64c"
      },
      "source": [
        " n= 5\n",
        " #for decreasing triangle\n",
        "for i in range(n):\n",
        "    for j in range(i,n):\n",
        "      print('', end='')\n",
        "#for increasdig triangle pattern\n",
        "    for j in range(i+1):\n",
        "      print('*', end='')\n",
        "    print()\n"
      ],
      "execution_count": null,
      "outputs": [
        {
          "output_type": "stream",
          "name": "stdout",
          "text": [
            "*\n",
            "**\n",
            "***\n",
            "****\n",
            "*****\n"
          ]
        }
      ]
    },
    {
      "cell_type": "code",
      "metadata": {
        "colab": {
          "base_uri": "https://localhost:8080/"
        },
        "id": "wWtO11OUUKFv",
        "outputId": "348c5941-17eb-4156-a92e-9c893af56ce0"
      },
      "source": [
        "n=5\n",
        "for i in range(n):\n",
        "  for j in range(i,n):\n",
        "    print('',end='')\n",
        "  for j in range(i):\n",
        "    print('*',end='')\n",
        "  for j in range(i+1):\n",
        "    print('*',end='')\n",
        "  print()"
      ],
      "execution_count": null,
      "outputs": [
        {
          "output_type": "stream",
          "name": "stdout",
          "text": [
            "*\n",
            "***\n",
            "*****\n",
            "*******\n",
            "*********\n"
          ]
        }
      ]
    },
    {
      "cell_type": "markdown",
      "source": [
        "KRISH NAIK'S 30+ PRACTICE CODING , SET - 1"
      ],
      "metadata": {
        "id": "YKqlkTxszypr"
      }
    },
    {
      "cell_type": "code",
      "source": [
        "# PRINT THE TYPE OF THE DATA TYPES\n",
        "a = 10\n",
        "b = 25.25\n",
        "c = 24.24j\n",
        "print(type(a))\n",
        "print(type(b))\n",
        "print(type(c))"
      ],
      "metadata": {
        "colab": {
          "base_uri": "https://localhost:8080/"
        },
        "id": "0IJbqhdwz6Em",
        "outputId": "5d5424ac-95e0-4e5d-ee59-41b89c80e847"
      },
      "execution_count": null,
      "outputs": [
        {
          "output_type": "stream",
          "name": "stdout",
          "text": [
            "<class 'int'>\n",
            "<class 'float'>\n",
            "<class 'complex'>\n"
          ]
        }
      ]
    },
    {
      "cell_type": "code",
      "source": [
        "#PERFORM DIFFERENT AIRTHMETIC OPERATIONS IN PYTHON \n",
        "a = int(input(\"Enter the Value of a :\"))\n",
        "b = int(input(\"Enter the Value of b :\"))\n",
        "print(\"Division results are: \", a/b)\n",
        "print(\"Remainder results are : \", a%b)\n",
        "print(\"Floor Division results are : \", a//b)"
      ],
      "metadata": {
        "colab": {
          "base_uri": "https://localhost:8080/"
        },
        "id": "mAwA251e05UF",
        "outputId": "fc309814-1aa9-4be8-896e-9baa6529c12c"
      },
      "execution_count": null,
      "outputs": [
        {
          "output_type": "stream",
          "name": "stdout",
          "text": [
            "Enter the Value of a :10\n",
            "Enter the Value of b :5\n",
            "Division results are:  2.0\n",
            "Remainder results are :  0\n",
            "Floor Division results are :  2\n"
          ]
        }
      ]
    },
    {
      "cell_type": "code",
      "source": [
        "# TO CREATE , CONCATENATE, ACCESS SUB-STRING\n",
        "s1=input(\"Enter the String : \")\n",
        "s2=input(\"Enter the String : \")\n",
        "print(\"COncatenated String is : \", s1+s2)\n",
        "print(\"Accessing Substring : \",s1[1:3])\n",
        "print(\"Accessing Substring : \",s2[::-1])"
      ],
      "metadata": {
        "colab": {
          "base_uri": "https://localhost:8080/"
        },
        "id": "KjxUKlIg2gd2",
        "outputId": "6da4e7c8-4080-4e1f-e973-f1551b78cee5"
      },
      "execution_count": null,
      "outputs": [
        {
          "output_type": "stream",
          "name": "stdout",
          "text": [
            "Enter the String : MOTIVATE \n",
            "Enter the String : MOTIVATION\n",
            "COncatenated String is :  MOTIVATE MOTIVATION\n",
            "Accessing Substring :  OT\n",
            "Accessing Substring :  NOITAVITOM\n"
          ]
        }
      ]
    },
    {
      "cell_type": "code",
      "source": [
        "#TO PRINT CURRENT DATE IN THE FORMAT OF {DAY MONTH TIME YEAR}\n",
        "import datetime as dt\n",
        "current_datetime = dt.datetime.now()\n",
        "print(current_datetime)\n",
        "\n",
        "import time\n",
        "ltime =time.localtime()\n",
        "print(ltime)\n",
        "print(time.strftime(\"%a %b %d %H:%M:%S %Z %Y\",ltime))"
      ],
      "metadata": {
        "id": "6WiR5SxL4NtV",
        "colab": {
          "base_uri": "https://localhost:8080/"
        },
        "outputId": "408bbac5-670e-4f7c-f335-3e8d9914c849"
      },
      "execution_count": null,
      "outputs": [
        {
          "output_type": "stream",
          "name": "stdout",
          "text": [
            "2021-12-21 10:36:52.535245\n",
            "time.struct_time(tm_year=2021, tm_mon=12, tm_mday=21, tm_hour=10, tm_min=36, tm_sec=52, tm_wday=1, tm_yday=355, tm_isdst=0)\n",
            "Tue Dec 21 10:36:52 UTC 2021\n"
          ]
        }
      ]
    },
    {
      "cell_type": "code",
      "source": [
        "# LIST OPERATIONS : CREATE , APPEND , REMOVE\n",
        "# Mixed lists\n",
        "l1=[1,\"ubas\",2.5]\n",
        "# Append List\n",
        "l1.append(\"Ubasagan\")\n",
        "print(l1)\n",
        "# Accessing Lists\n",
        "print(l1[-2])\n",
        "# Removing Elements from lists\n",
        "l1.remove('ubas')\n",
        "print(l1)\n",
        "del l1[1]\n",
        "print(l1)"
      ],
      "metadata": {
        "colab": {
          "base_uri": "https://localhost:8080/"
        },
        "id": "AygLQ20qkSGA",
        "outputId": "2644db24-82b4-4aa1-a77d-c61b5094838a"
      },
      "execution_count": null,
      "outputs": [
        {
          "output_type": "stream",
          "name": "stdout",
          "text": [
            "[1, 'ubas', 2.5, 'Ubasagan']\n",
            "2.5\n",
            "[1, 2.5, 'Ubasagan']\n",
            "[1, 'Ubasagan']\n"
          ]
        }
      ]
    },
    {
      "cell_type": "code",
      "source": [
        "# TUPLE OPEARATIONS - CREATE , EDIT , DELETE, REMOVE\n",
        "my_tuple =()\n",
        "print(my_tuple)\n",
        "\n",
        "my_tuple = (1,2,3,4,5)\n",
        "print(my_tuple)\n",
        "\n",
        "#tuple with Mixed Datatypes\n",
        "my_tuple = (1,\"Ubasagan k\", 6.5)\n",
        "print(my_tuple)\n",
        "\n",
        "#Nested Tuple\n",
        "my_tuple = (\"Collins AeroSpace\", [8,4,6], (1,2,3,4,5,6))\n",
        "print(my_tuple)"
      ],
      "metadata": {
        "id": "LDlx7ebim3w_",
        "colab": {
          "base_uri": "https://localhost:8080/"
        },
        "outputId": "725e6a88-b640-4e0b-ee0c-b9f0f2c43637"
      },
      "execution_count": null,
      "outputs": [
        {
          "output_type": "stream",
          "name": "stdout",
          "text": [
            "()\n",
            "(1, 2, 3, 4, 5)\n",
            "(1, 'Ubasagan k', 6.5)\n",
            "('Collins AeroSpace', [8, 4, 6], (1, 2, 3, 4, 5, 6))\n"
          ]
        }
      ]
    },
    {
      "cell_type": "code",
      "source": [
        "# WORKING WITH DICTIONARIES\n",
        "\n",
        "# GET VS [] for retrieving elements\n",
        "my_dict = {'name':'Arun', 'Age': 25}\n",
        "\n",
        "print(my_dict['name'])\n",
        "\n",
        "#output : required age\n",
        "print(my_dict['Age'])\n",
        "\n",
        "#Trying to Access keys which doesn't exist throws error\n",
        "#output None\n",
        "print(my_dict.get('Age'))\n",
        "print(my_dict.get('Address'))\n",
        "\n",
        "#KEY ERROR\n",
        "print(my_dict['Address'])"
      ],
      "metadata": {
        "id": "WVL47UWvj6Og",
        "colab": {
          "base_uri": "https://localhost:8080/",
          "height": 270
        },
        "outputId": "bc8ec207-9ca0-4bd9-ab13-0fb5002139e9"
      },
      "execution_count": null,
      "outputs": [
        {
          "output_type": "stream",
          "name": "stdout",
          "text": [
            "Arun\n",
            "25\n",
            "25\n",
            "None\n"
          ]
        },
        {
          "output_type": "error",
          "ename": "KeyError",
          "evalue": "ignored",
          "traceback": [
            "\u001b[0;31m---------------------------------------------------------------------------\u001b[0m",
            "\u001b[0;31mKeyError\u001b[0m                                  Traceback (most recent call last)",
            "\u001b[0;32m<ipython-input-4-41a9935f85b5>\u001b[0m in \u001b[0;36m<module>\u001b[0;34m()\u001b[0m\n\u001b[1;32m     15\u001b[0m \u001b[0;34m\u001b[0m\u001b[0m\n\u001b[1;32m     16\u001b[0m \u001b[0;31m#KEY ERROR\u001b[0m\u001b[0;34m\u001b[0m\u001b[0;34m\u001b[0m\u001b[0;34m\u001b[0m\u001b[0m\n\u001b[0;32m---> 17\u001b[0;31m \u001b[0mprint\u001b[0m\u001b[0;34m(\u001b[0m\u001b[0mmy_dict\u001b[0m\u001b[0;34m[\u001b[0m\u001b[0;34m'Address'\u001b[0m\u001b[0;34m]\u001b[0m\u001b[0;34m)\u001b[0m\u001b[0;34m\u001b[0m\u001b[0;34m\u001b[0m\u001b[0m\n\u001b[0m",
            "\u001b[0;31mKeyError\u001b[0m: 'Address'"
          ]
        }
      ]
    },
    {
      "cell_type": "code",
      "source": [
        "# TEMPERATURE CONVERSIONS\n",
        "temp = float(input(\"Enter Temperature : \"))\n",
        "unit = input(\"Enter Unit ('C' for Celsius or 'F' for Fahrenheit) : \")\n",
        "\n",
        "if unit == 'C' or unit == 'c' :\n",
        "  newtemp = 9/5 * (temp + 32)\n",
        "  print(\"New Temperature in Fahrenheit  : \", newtemp)\n",
        "elif unit == 'F' or unit == 'f' :\n",
        "  newtemp = 5/9 *(temp - 32)\n",
        "  print(\"New Temperature in Celsius : \", newtemp)\n",
        "else:\n",
        "  print(\"UNKNOWN UNIT\", unit)"
      ],
      "metadata": {
        "colab": {
          "base_uri": "https://localhost:8080/"
        },
        "id": "VPR6wC2vBZnN",
        "outputId": "d099acaf-928d-4a73-da12-a45ff07375cf"
      },
      "execution_count": null,
      "outputs": [
        {
          "output_type": "stream",
          "name": "stdout",
          "text": [
            "Enter Temperature : 125\n",
            "Enter Unit ('C' for Celsius or 'F' for Fahrenheit) : f\n",
            "New Temperature in Celsius :  51.66666666666667\n"
          ]
        }
      ]
    },
    {
      "cell_type": "code",
      "source": [
        "# PATTERN PRINTING USING NESTED FOR LOOP\n",
        "n= int(input(\"Enter the value of n : \"))\n",
        "for i in range(n):\n",
        "  for j in range(i):\n",
        "    print('*' , end = ' ' )\n",
        "  print()\n",
        "for i in range(n,0,-1):\n",
        "  for j in range(i):\n",
        "    print('*', end =' ')\n",
        "  print()\n"
      ],
      "metadata": {
        "colab": {
          "base_uri": "https://localhost:8080/"
        },
        "id": "a3zQEeYgE0aH",
        "outputId": "9815c7c2-0ced-4811-f03d-a81dc3c0978f"
      },
      "execution_count": null,
      "outputs": [
        {
          "output_type": "stream",
          "name": "stdout",
          "text": [
            "Enter the value of n : 5\n",
            "\n",
            "* \n",
            "* * \n",
            "* * * \n",
            "* * * * \n",
            "* * * * * \n",
            "* * * * \n",
            "* * * \n",
            "* * \n",
            "* \n"
          ]
        }
      ]
    },
    {
      "cell_type": "code",
      "source": [
        "n = 6\n",
        "for i in range(n):   #columns\n",
        "  for j in range(n):  # denotes ROWS\n",
        "\n",
        "\n",
        "  \n",
        "    print('$', end = ' ')\n",
        "  print()\n"
      ],
      "metadata": {
        "colab": {
          "base_uri": "https://localhost:8080/"
        },
        "id": "A34U9cfbKvER",
        "outputId": "3279c7bb-8b6c-4739-b1a2-a73f6883b715"
      },
      "execution_count": null,
      "outputs": [
        {
          "output_type": "stream",
          "name": "stdout",
          "text": [
            "$ $ $ $ $ $ \n",
            "$ $ $ $ $ $ \n",
            "$ $ $ $ $ $ \n",
            "$ $ $ $ $ $ \n",
            "$ $ $ $ $ $ \n",
            "$ $ $ $ $ $ \n"
          ]
        }
      ]
    },
    {
      "cell_type": "code",
      "source": [
        "# PRINT PRIME NUMBERS LESS THAN 20 - set limit in the range & identify the print the need.\n",
        "lower = int(input(\"Enter the lower range value : \"))\n",
        "upper = int(input(\"Enter the upper range value: \"))\n",
        "\n",
        "for num in range(lower , upper+1):\n",
        "  if num> 1:\n",
        "    for i  in range(2,num):\n",
        "      if (num % i == 0):\n",
        "        break\n",
        "        print(\"Not Prime\")\n",
        "        \n",
        "    else:\n",
        "      print(num)\n",
        "\n"
      ],
      "metadata": {
        "colab": {
          "base_uri": "https://localhost:8080/"
        },
        "id": "il_EZKOCvmMq",
        "outputId": "54cc550f-416a-4393-ebcd-977e9b4c7c0a"
      },
      "execution_count": null,
      "outputs": [
        {
          "output_type": "stream",
          "name": "stdout",
          "text": [
            "Enter the lower range value : 5\n",
            "Enter the upper range value: 25\n",
            "5\n",
            "7\n",
            "11\n",
            "13\n",
            "17\n",
            "19\n",
            "23\n"
          ]
        }
      ]
    },
    {
      "cell_type": "code",
      "source": [
        "# "
      ],
      "metadata": {
        "id": "vjAm06KbzYn7"
      },
      "execution_count": null,
      "outputs": []
    },
    {
      "cell_type": "markdown",
      "source": [
        "#NUMBER PATTERN "
      ],
      "metadata": {
        "id": "nLCPKA3Uvkfs"
      }
    },
    {
      "cell_type": "code",
      "source": [
        "#NUMBER PATTERN \n",
        "num = int(input(\"Enter the Value of n : \"))\n",
        "for i in range(num+1):\n",
        "  for j in range(i):\n",
        "    print(i, end= ' ')\n",
        "\n",
        "  print()"
      ],
      "metadata": {
        "colab": {
          "base_uri": "https://localhost:8080/"
        },
        "id": "2xuK9b3jY7ch",
        "outputId": "95d370ed-5396-4606-ab99-7d7aae0a3c16"
      },
      "execution_count": null,
      "outputs": [
        {
          "output_type": "stream",
          "name": "stdout",
          "text": [
            "Enter the Value of n : 20\n",
            "\n",
            "1 \n",
            "2 2 \n",
            "3 3 3 \n",
            "4 4 4 4 \n",
            "5 5 5 5 5 \n",
            "6 6 6 6 6 6 \n",
            "7 7 7 7 7 7 7 \n",
            "8 8 8 8 8 8 8 8 \n",
            "9 9 9 9 9 9 9 9 9 \n",
            "10 10 10 10 10 10 10 10 10 10 \n",
            "11 11 11 11 11 11 11 11 11 11 11 \n",
            "12 12 12 12 12 12 12 12 12 12 12 12 \n",
            "13 13 13 13 13 13 13 13 13 13 13 13 13 \n",
            "14 14 14 14 14 14 14 14 14 14 14 14 14 14 \n",
            "15 15 15 15 15 15 15 15 15 15 15 15 15 15 15 \n",
            "16 16 16 16 16 16 16 16 16 16 16 16 16 16 16 16 \n",
            "17 17 17 17 17 17 17 17 17 17 17 17 17 17 17 17 17 \n",
            "18 18 18 18 18 18 18 18 18 18 18 18 18 18 18 18 18 18 \n",
            "19 19 19 19 19 19 19 19 19 19 19 19 19 19 19 19 19 19 19 \n",
            "20 20 20 20 20 20 20 20 20 20 20 20 20 20 20 20 20 20 20 20 \n"
          ]
        }
      ]
    },
    {
      "cell_type": "code",
      "source": [
        "num = int(input(\"Enter the value of  : \"))\n",
        "for i in range(1,num+1):\n",
        "  for j in range(1,i+1):\n",
        "    print(j, end = ' ')\n",
        "  print()\n"
      ],
      "metadata": {
        "colab": {
          "base_uri": "https://localhost:8080/"
        },
        "id": "3ziMoS2TaecR",
        "outputId": "010cac78-b0a1-4cb8-a761-2165ca7ecef6"
      },
      "execution_count": null,
      "outputs": [
        {
          "output_type": "stream",
          "name": "stdout",
          "text": [
            "Enter the value of  : 24\n",
            "1 \n",
            "1 2 \n",
            "1 2 3 \n",
            "1 2 3 4 \n",
            "1 2 3 4 5 \n",
            "1 2 3 4 5 6 \n",
            "1 2 3 4 5 6 7 \n",
            "1 2 3 4 5 6 7 8 \n",
            "1 2 3 4 5 6 7 8 9 \n",
            "1 2 3 4 5 6 7 8 9 10 \n",
            "1 2 3 4 5 6 7 8 9 10 11 \n",
            "1 2 3 4 5 6 7 8 9 10 11 12 \n",
            "1 2 3 4 5 6 7 8 9 10 11 12 13 \n",
            "1 2 3 4 5 6 7 8 9 10 11 12 13 14 \n",
            "1 2 3 4 5 6 7 8 9 10 11 12 13 14 15 \n",
            "1 2 3 4 5 6 7 8 9 10 11 12 13 14 15 16 \n",
            "1 2 3 4 5 6 7 8 9 10 11 12 13 14 15 16 17 \n",
            "1 2 3 4 5 6 7 8 9 10 11 12 13 14 15 16 17 18 \n",
            "1 2 3 4 5 6 7 8 9 10 11 12 13 14 15 16 17 18 19 \n",
            "1 2 3 4 5 6 7 8 9 10 11 12 13 14 15 16 17 18 19 20 \n",
            "1 2 3 4 5 6 7 8 9 10 11 12 13 14 15 16 17 18 19 20 21 \n",
            "1 2 3 4 5 6 7 8 9 10 11 12 13 14 15 16 17 18 19 20 21 22 \n",
            "1 2 3 4 5 6 7 8 9 10 11 12 13 14 15 16 17 18 19 20 21 22 23 \n",
            "1 2 3 4 5 6 7 8 9 10 11 12 13 14 15 16 17 18 19 20 21 22 23 24 \n"
          ]
        }
      ]
    },
    {
      "cell_type": "code",
      "source": [
        "name = \"Enter the name of the stock listed in nse/ bse :\"\n",
        "upper_range = float(\"Enter the sell value price : \")\n",
        "lower_range = float(\"Enter the buy value price : \")\n",
        "buy = lower_range <= upper_range \n",
        "sell = upper_range >= lower_range\n",
        "if \n",
        "\n",
        "\n"
      ],
      "metadata": {
        "id": "v4Jf3XJbc-0h"
      },
      "execution_count": null,
      "outputs": []
    }
  ]
}